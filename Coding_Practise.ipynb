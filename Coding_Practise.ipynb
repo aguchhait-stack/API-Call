{
  "nbformat": 4,
  "nbformat_minor": 0,
  "metadata": {
    "colab": {
      "provenance": [],
      "authorship_tag": "ABX9TyOuqZ3g1DUQ/pRMzITKVTVe",
      "include_colab_link": true
    },
    "kernelspec": {
      "name": "python3",
      "display_name": "Python 3"
    },
    "language_info": {
      "name": "python"
    }
  },
  "cells": [
    {
      "cell_type": "markdown",
      "metadata": {
        "id": "view-in-github",
        "colab_type": "text"
      },
      "source": [
        "<a href=\"https://colab.research.google.com/github/aguchhait-stack/API-Call/blob/main/Coding_Practise.ipynb\" target=\"_parent\"><img src=\"https://colab.research.google.com/assets/colab-badge.svg\" alt=\"Open In Colab\"/></a>"
      ]
    },
    {
      "cell_type": "markdown",
      "source": [
        "1. Leap Year"
      ],
      "metadata": {
        "id": "MU0wT8qFZi-R"
      }
    },
    {
      "cell_type": "code",
      "execution_count": 11,
      "metadata": {
        "colab": {
          "base_uri": "https://localhost:8080/"
        },
        "id": "CnaGYQBRL-uD",
        "outputId": "2451e631-f08b-4b33-ef04-698e44844eb2"
      },
      "outputs": [
        {
          "output_type": "stream",
          "name": "stdout",
          "text": [
            "Enter the Year: 1992\n",
            "Is it Leap Year?: True\n"
          ]
        }
      ],
      "source": [
        "def is_leap(year):\n",
        "  leap = False\n",
        "  if year %4 ==0:\n",
        "    if year%100==0:\n",
        "      if year%400==0:\n",
        "        leap=True\n",
        "      else:\n",
        "        leap =False\n",
        "    else:\n",
        "      leap =True\n",
        "  else:\n",
        "    leap =False\n",
        "  return leap\n",
        "year = int(input(\"Enter the Year: \" ))\n",
        "print('Is it Leap Year?:', is_leap(year))"
      ]
    },
    {
      "cell_type": "code",
      "source": [
        "# One line version\n",
        "def is_leap(year):\n",
        "  return year%4==0 and (year%100!=0 or year%400==0)\n",
        "year = int(input(\"Enter the Year: \" ))\n",
        "print('Is it Leap Year?:', is_leap(year))"
      ],
      "metadata": {
        "colab": {
          "base_uri": "https://localhost:8080/"
        },
        "id": "MCrq4uhEXeZc",
        "outputId": "0d4d01be-eae8-47f1-a067-a48755b96727"
      },
      "execution_count": 12,
      "outputs": [
        {
          "output_type": "stream",
          "name": "stdout",
          "text": [
            "Enter the Year: 1992\n",
            "Is it Leap Year?: True\n"
          ]
        }
      ]
    },
    {
      "cell_type": "markdown",
      "source": [
        "2. Factorial (using recursion)"
      ],
      "metadata": {
        "id": "f7ZeviwQZxAs"
      }
    },
    {
      "cell_type": "code",
      "source": [],
      "metadata": {
        "id": "4E48uwYyZ75W"
      },
      "execution_count": null,
      "outputs": []
    }
  ]
}