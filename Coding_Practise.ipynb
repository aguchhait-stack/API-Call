{
  "nbformat": 4,
  "nbformat_minor": 0,
  "metadata": {
    "colab": {
      "provenance": [],
      "authorship_tag": "ABX9TyP3zoTlQ1FGQ7JQGWA5AS3P",
      "include_colab_link": true
    },
    "kernelspec": {
      "name": "python3",
      "display_name": "Python 3"
    },
    "language_info": {
      "name": "python"
    }
  },
  "cells": [
    {
      "cell_type": "markdown",
      "metadata": {
        "id": "view-in-github",
        "colab_type": "text"
      },
      "source": [
        "<a href=\"https://colab.research.google.com/github/aguchhait-stack/API-Call/blob/main/Coding_Practise.ipynb\" target=\"_parent\"><img src=\"https://colab.research.google.com/assets/colab-badge.svg\" alt=\"Open In Colab\"/></a>"
      ]
    },
    {
      "cell_type": "markdown",
      "source": [
        "1. Leap Year"
      ],
      "metadata": {
        "id": "MU0wT8qFZi-R"
      }
    },
    {
      "cell_type": "code",
      "execution_count": null,
      "metadata": {
        "colab": {
          "base_uri": "https://localhost:8080/"
        },
        "id": "CnaGYQBRL-uD",
        "outputId": "cdc234ef-e94f-45f9-d51a-cc29b31f7161"
      },
      "outputs": [
        {
          "output_type": "stream",
          "name": "stdout",
          "text": [
            "Enter the Year: 2089\n",
            "Is it Leap Year?: False\n"
          ]
        }
      ],
      "source": [
        "def is_leap(year):\n",
        "  leap = False\n",
        "  if year %4 ==0:\n",
        "    if year%100==0:\n",
        "      if year%400==0:\n",
        "        leap=True\n",
        "      else:\n",
        "        leap =False\n",
        "    else:\n",
        "      leap =True\n",
        "  else:\n",
        "    leap =False\n",
        "  return leap\n",
        "year = int(input(\"Enter the Year: \" ))\n",
        "print('Is it Leap Year?:', is_leap(year))"
      ]
    },
    {
      "cell_type": "code",
      "source": [
        "def is_leap(year):\n",
        "  leap = False\n",
        "  if year%400 == 0:\n",
        "    return True\n",
        "  elif year%100 == 0:\n",
        "    return False\n",
        "  elif year%4 == 0:\n",
        "    return True\n",
        "  else:\n",
        "    return False\n",
        "\n",
        "  return leap\n",
        "year = int(input(\"Enter the Year: \" ))\n",
        "print('Is it Leap Year?:', is_leap(year))"
      ],
      "metadata": {
        "colab": {
          "base_uri": "https://localhost:8080/"
        },
        "id": "cLmbeenN4xFP",
        "outputId": "028f86d4-9610-48b8-db25-e10a78ec89b4"
      },
      "execution_count": 4,
      "outputs": [
        {
          "output_type": "stream",
          "name": "stdout",
          "text": [
            "Enter the Year: 2000\n",
            "Is it Leap Year?: True\n"
          ]
        }
      ]
    },
    {
      "cell_type": "code",
      "source": [
        "# One line version\n",
        "def is_leap(year):\n",
        "  return year%4==0 and (year%100!=0 or year%400==0)\n",
        "year = int(input(\"Enter the Year: \" ))\n",
        "print('Is it Leap Year?:', is_leap(year))"
      ],
      "metadata": {
        "colab": {
          "base_uri": "https://localhost:8080/"
        },
        "id": "MCrq4uhEXeZc",
        "outputId": "0d4d01be-eae8-47f1-a067-a48755b96727"
      },
      "execution_count": null,
      "outputs": [
        {
          "output_type": "stream",
          "name": "stdout",
          "text": [
            "Enter the Year: 1992\n",
            "Is it Leap Year?: True\n"
          ]
        }
      ]
    },
    {
      "cell_type": "markdown",
      "source": [
        "2. Factorial (using recursion)"
      ],
      "metadata": {
        "id": "f7ZeviwQZxAs"
      }
    },
    {
      "cell_type": "code",
      "source": [
        "def factorial(n):\n",
        "  if n == 0 or n == 1:\n",
        "    return 1\n",
        "  else:\n",
        "    return n*factorial(n-1)\n",
        "n= int(input(\"Enter the number: \"))\n",
        "print(factorial(n))"
      ],
      "metadata": {
        "colab": {
          "base_uri": "https://localhost:8080/"
        },
        "id": "4E48uwYyZ75W",
        "outputId": "7c32c321-4ad4-428b-c5a5-590c09e421e9"
      },
      "execution_count": null,
      "outputs": [
        {
          "output_type": "stream",
          "name": "stdout",
          "text": [
            "Enter the number: 5\n",
            "120\n"
          ]
        }
      ]
    },
    {
      "cell_type": "markdown",
      "source": [
        "3. Check Palindrome String"
      ],
      "metadata": {
        "id": "6oZ7SV9gbzND"
      }
    },
    {
      "cell_type": "code",
      "source": [
        "def is_palindrome(s):\n",
        "  s=s.lower().replace(\" \",\"\")\n",
        "  return s==s[::-1]\n",
        "s=input('Enter the string: ')\n",
        "print(is_palindrome(s))"
      ],
      "metadata": {
        "colab": {
          "base_uri": "https://localhost:8080/"
        },
        "id": "irV7tnaCb1KC",
        "outputId": "210152ef-b185-42e9-f437-90dd44f119d6"
      },
      "execution_count": null,
      "outputs": [
        {
          "output_type": "stream",
          "name": "stdout",
          "text": [
            "Enter the string: Ma   d  a m\n",
            "True\n"
          ]
        }
      ]
    },
    {
      "cell_type": "markdown",
      "source": [
        "4. Prime Number"
      ],
      "metadata": {
        "id": "T6lXSNjd32E5"
      }
    },
    {
      "cell_type": "code",
      "source": [
        "def is_prime(n):\n",
        "  if n<=1:\n",
        "    return False\n",
        "  for i in range(2,n-1):\n",
        "    if n%i==0:\n",
        "      return False\n",
        "  return True\n",
        "n=int(input(\"Enter the number: \"))\n",
        "print(is_prime(n))"
      ],
      "metadata": {
        "colab": {
          "base_uri": "https://localhost:8080/"
        },
        "id": "KaXS5lhs37hm",
        "outputId": "066f891b-b31c-4aa3-ce77-5a8bc6fa139c"
      },
      "execution_count": null,
      "outputs": [
        {
          "output_type": "stream",
          "name": "stdout",
          "text": [
            "Enter the number: 11\n",
            "True\n"
          ]
        }
      ]
    },
    {
      "cell_type": "code",
      "source": [
        "x=float(5)\n",
        "y='arijit'"
      ],
      "metadata": {
        "id": "lNx3BupjTFL9"
      },
      "execution_count": null,
      "outputs": []
    },
    {
      "cell_type": "code",
      "source": [
        "print(type(x))\n",
        "print(type(y))"
      ],
      "metadata": {
        "colab": {
          "base_uri": "https://localhost:8080/"
        },
        "id": "QiBOQ0zsTRNY",
        "outputId": "21f78e0f-c7f1-4bb9-a747-1654c0caabb7"
      },
      "execution_count": null,
      "outputs": [
        {
          "output_type": "stream",
          "name": "stdout",
          "text": [
            "<class 'float'>\n",
            "<class 'str'>\n"
          ]
        }
      ]
    },
    {
      "cell_type": "code",
      "source": [
        "x,y,z=['apple','banana','orange']\n",
        "print(type(x))\n",
        "print(x,y)"
      ],
      "metadata": {
        "colab": {
          "base_uri": "https://localhost:8080/"
        },
        "id": "l3onyhj_dfcN",
        "outputId": "736adf15-2d13-4dae-d79d-a745cb9d721b"
      },
      "execution_count": null,
      "outputs": [
        {
          "output_type": "stream",
          "name": "stdout",
          "text": [
            "<class 'str'>\n",
            "apple banana\n"
          ]
        }
      ]
    },
    {
      "cell_type": "code",
      "source": [
        "x,y,z='python','is','awesome'\n",
        "print(x,y,z)"
      ],
      "metadata": {
        "colab": {
          "base_uri": "https://localhost:8080/"
        },
        "id": "_SRnxGlnd8K6",
        "outputId": "51738985-0552-4363-c5c4-22c56ba8eccc"
      },
      "execution_count": null,
      "outputs": [
        {
          "output_type": "stream",
          "name": "stdout",
          "text": [
            "python is awesome\n"
          ]
        }
      ]
    },
    {
      "cell_type": "code",
      "source": [
        "x='awesome'\n",
        "def my_func():\n",
        "  print('Python is ' + x) # Corrected concatenation\n",
        "my_func() # Call the function to see the output"
      ],
      "metadata": {
        "colab": {
          "base_uri": "https://localhost:8080/"
        },
        "id": "lB5lYcy8e6w9",
        "outputId": "d81e2962-adda-4231-ee2c-508fdff13818"
      },
      "execution_count": null,
      "outputs": [
        {
          "output_type": "stream",
          "name": "stdout",
          "text": [
            "Python is awesome\n"
          ]
        }
      ]
    },
    {
      "cell_type": "code",
      "source": [
        "x = \"awesome\"\n",
        "\n",
        "def myfunc():\n",
        "  x = \"fantastic\"\n",
        "  print(\"Python is \" + x)\n",
        "myfunc()\n",
        "\n",
        "print(\"Python is \" + x)"
      ],
      "metadata": {
        "colab": {
          "base_uri": "https://localhost:8080/"
        },
        "id": "W0XCbROIf1n4",
        "outputId": "e75059a4-1bef-4f8d-d2b7-236ab1d3c0c5"
      },
      "execution_count": null,
      "outputs": [
        {
          "output_type": "stream",
          "name": "stdout",
          "text": [
            "Python is fantastic\n",
            "Python is awesome\n"
          ]
        }
      ]
    },
    {
      "cell_type": "code",
      "source": [
        "x = \"awesome\"\n",
        "def my_func():\n",
        "  global x\n",
        "  x='fantastic'\n",
        "  print('Python is '+x)\n",
        "my_func()\n",
        "print('Python is '+x)"
      ],
      "metadata": {
        "colab": {
          "base_uri": "https://localhost:8080/"
        },
        "id": "RrraBGkogCa6",
        "outputId": "7d045310-6d63-4faf-caf1-fe4a1b705a15"
      },
      "execution_count": null,
      "outputs": [
        {
          "output_type": "stream",
          "name": "stdout",
          "text": [
            "Python is fantastic\n",
            "Python is fantastic\n"
          ]
        }
      ]
    },
    {
      "cell_type": "code",
      "source": [
        "x=('apple',5,6.7)\n",
        "print(type(x))"
      ],
      "metadata": {
        "colab": {
          "base_uri": "https://localhost:8080/"
        },
        "id": "otd12sfDiTlU",
        "outputId": "d56595ef-085a-4fff-9193-f97b3e405d6b"
      },
      "execution_count": null,
      "outputs": [
        {
          "output_type": "stream",
          "name": "stdout",
          "text": [
            "<class 'tuple'>\n"
          ]
        }
      ]
    },
    {
      "cell_type": "code",
      "source": [
        "x=int(5.55)\n",
        "print(x)"
      ],
      "metadata": {
        "colab": {
          "base_uri": "https://localhost:8080/"
        },
        "id": "IILuL0kFiqbA",
        "outputId": "965fc1f2-1471-41e0-ce8a-4a9dad08e322"
      },
      "execution_count": null,
      "outputs": [
        {
          "output_type": "stream",
          "name": "stdout",
          "text": [
            "5\n"
          ]
        }
      ]
    },
    {
      "cell_type": "code",
      "source": [
        "import random\n",
        "print(random.randrange(1,13))"
      ],
      "metadata": {
        "colab": {
          "base_uri": "https://localhost:8080/"
        },
        "id": "58dR2mrgj3HX",
        "outputId": "3c2924d3-4350-447e-b9f1-4671da720693"
      },
      "execution_count": null,
      "outputs": [
        {
          "output_type": "stream",
          "name": "stdout",
          "text": [
            "8\n"
          ]
        }
      ]
    },
    {
      "cell_type": "code",
      "source": [
        "print(\"He is called 'Johnny'\")"
      ],
      "metadata": {
        "colab": {
          "base_uri": "https://localhost:8080/"
        },
        "id": "dl4Vexr4kJS6",
        "outputId": "01fb51f0-1dd9-45ad-fe37-631810ddc6bb"
      },
      "execution_count": null,
      "outputs": [
        {
          "output_type": "stream",
          "name": "stdout",
          "text": [
            "He is called 'Johnny'\n"
          ]
        }
      ]
    },
    {
      "cell_type": "code",
      "source": [
        "for i in 'banana':\n",
        "  print(i)"
      ],
      "metadata": {
        "colab": {
          "base_uri": "https://localhost:8080/"
        },
        "id": "TCSdHmWJpwt2",
        "outputId": "b5338c55-0ae0-49f9-a6e5-eadd244b5472"
      },
      "execution_count": null,
      "outputs": [
        {
          "output_type": "stream",
          "name": "stdout",
          "text": [
            "b\n",
            "a\n",
            "n\n",
            "a\n",
            "n\n",
            "a\n"
          ]
        }
      ]
    },
    {
      "cell_type": "code",
      "source": [
        "text='I love car'\n",
        "if 'car' in text:\n",
        "  print(\"Yes, 'car' is in the text\")"
      ],
      "metadata": {
        "colab": {
          "base_uri": "https://localhost:8080/"
        },
        "id": "mCieANpiqEGJ",
        "outputId": "312e3505-a0f2-4a30-9147-5f6dcaf33ae0"
      },
      "execution_count": null,
      "outputs": [
        {
          "output_type": "stream",
          "name": "stdout",
          "text": [
            "Yes, 'car' is in the text\n"
          ]
        }
      ]
    },
    {
      "cell_type": "code",
      "source": [
        "a = \" Hello, World! \"\n",
        "print(a.strip().lower())"
      ],
      "metadata": {
        "colab": {
          "base_uri": "https://localhost:8080/"
        },
        "id": "bgwGFoNBrqfD",
        "outputId": "ce199175-1506-480e-9964-88b153d51765"
      },
      "execution_count": null,
      "outputs": [
        {
          "output_type": "stream",
          "name": "stdout",
          "text": [
            "hello, world!\n"
          ]
        }
      ]
    },
    {
      "cell_type": "code",
      "source": [
        "a = \" Hello, World! \"\n",
        "print(a.split(','))"
      ],
      "metadata": {
        "colab": {
          "base_uri": "https://localhost:8080/"
        },
        "id": "c5lENSmmwuts",
        "outputId": "a2730cfd-f023-4994-f093-5b718c74dcf9"
      },
      "execution_count": null,
      "outputs": [
        {
          "output_type": "stream",
          "name": "stdout",
          "text": [
            "[' Hello', ' World! ']\n"
          ]
        }
      ]
    },
    {
      "cell_type": "code",
      "source": [
        "age = 36\n",
        "txt = f\"My name is John, I am {age}\"\n",
        "print(txt)"
      ],
      "metadata": {
        "colab": {
          "base_uri": "https://localhost:8080/"
        },
        "id": "RlVAvSbixUtg",
        "outputId": "f670e4fa-56fd-4949-f69f-30d48dcc4b10"
      },
      "execution_count": null,
      "outputs": [
        {
          "output_type": "stream",
          "name": "stdout",
          "text": [
            "My name is John, I am 36\n"
          ]
        }
      ]
    },
    {
      "cell_type": "code",
      "source": [
        "import random\n",
        "x=random.randrange(28,35)\n",
        "def my_function():\n",
        "  print(f\"I want to marry a girl who is {x} and {x+1} years of age\")\n",
        "my_function()"
      ],
      "metadata": {
        "colab": {
          "base_uri": "https://localhost:8080/"
        },
        "id": "aNUozqHgxpcg",
        "outputId": "15cf0850-3477-48c7-9893-0020073dd430"
      },
      "execution_count": null,
      "outputs": [
        {
          "output_type": "stream",
          "name": "stdout",
          "text": [
            "I want to marry a girl who is 30 and 31 years of age\n"
          ]
        }
      ]
    },
    {
      "cell_type": "code",
      "source": [
        "import random\n",
        "x=random.randrange(0,10)\n",
        "text=f\"Price of this product is {x:.2f}\"\n",
        "print(text)"
      ],
      "metadata": {
        "colab": {
          "base_uri": "https://localhost:8080/"
        },
        "id": "oZgLaG6u0XFB",
        "outputId": "5e91f9ab-ac80-44e5-9123-d95d5a502be3"
      },
      "execution_count": null,
      "outputs": [
        {
          "output_type": "stream",
          "name": "stdout",
          "text": [
            "Price of this product is 5.00\n"
          ]
        }
      ]
    },
    {
      "cell_type": "code",
      "source": [
        "print(' It\\'s\\n alright')"
      ],
      "metadata": {
        "colab": {
          "base_uri": "https://localhost:8080/"
        },
        "id": "8thR8J-h15P2",
        "outputId": "3b2160c2-2209-484d-bd1c-a46034f3a6d2"
      },
      "execution_count": null,
      "outputs": [
        {
          "output_type": "stream",
          "name": "stdout",
          "text": [
            " It's\n",
            " alright\n"
          ]
        }
      ]
    },
    {
      "cell_type": "code",
      "source": [
        "x= 'Hello World'\n",
        "print(len(x))"
      ],
      "metadata": {
        "colab": {
          "base_uri": "https://localhost:8080/"
        },
        "id": "UQLUdJmt3pYR",
        "outputId": "f55ca29d-91b2-429b-fd87-d3143350f7e3"
      },
      "execution_count": null,
      "outputs": [
        {
          "output_type": "stream",
          "name": "stdout",
          "text": [
            "11\n"
          ]
        }
      ]
    },
    {
      "cell_type": "code",
      "source": [
        "x=5\n",
        "x//=3\n",
        "print(x)"
      ],
      "metadata": {
        "colab": {
          "base_uri": "https://localhost:8080/"
        },
        "id": "mUIUpd7ADbyV",
        "outputId": "bb93303c-85cd-42bf-aa70-e81cad55862f"
      },
      "execution_count": null,
      "outputs": [
        {
          "output_type": "stream",
          "name": "stdout",
          "text": [
            "1\n"
          ]
        }
      ]
    },
    {
      "cell_type": "code",
      "source": [
        "thislist=list(('apple','orange','banana'))\n",
        "print(type(thislist))"
      ],
      "metadata": {
        "colab": {
          "base_uri": "https://localhost:8080/"
        },
        "id": "V8WBCT0uHTxP",
        "outputId": "ebf1d14d-6f8c-4de3-b744-4c0579df768f"
      },
      "execution_count": null,
      "outputs": [
        {
          "output_type": "stream",
          "name": "stdout",
          "text": [
            "<class 'list'>\n"
          ]
        }
      ]
    },
    {
      "cell_type": "code",
      "source": [
        "thislist.append('mango')"
      ],
      "metadata": {
        "id": "2McJyzhkJmbv"
      },
      "execution_count": null,
      "outputs": []
    },
    {
      "cell_type": "code",
      "source": [
        "thislist.insert(1,'mango')"
      ],
      "metadata": {
        "id": "uy-KoF-sMKcJ"
      },
      "execution_count": null,
      "outputs": []
    },
    {
      "cell_type": "code",
      "source": [
        "thislist.extend(['kiwi','cherry'])"
      ],
      "metadata": {
        "id": "hXBlA73LIgvE"
      },
      "execution_count": null,
      "outputs": []
    },
    {
      "cell_type": "code",
      "source": [
        "thislist.remove('mango')"
      ],
      "metadata": {
        "id": "DeRucTtHI8xR"
      },
      "execution_count": null,
      "outputs": []
    },
    {
      "cell_type": "code",
      "source": [
        "thislist[:-1]"
      ],
      "metadata": {
        "colab": {
          "base_uri": "https://localhost:8080/"
        },
        "id": "S4nWR7aEJJG1",
        "outputId": "11cad8f8-95f2-40cc-8ac7-e46921c31958"
      },
      "execution_count": null,
      "outputs": [
        {
          "output_type": "execute_result",
          "data": {
            "text/plain": [
              "['apple',\n",
              " 'orange',\n",
              " 'banana',\n",
              " 'mango',\n",
              " 'kiwi',\n",
              " 'cherry',\n",
              " 'kiwi',\n",
              " 'cherry',\n",
              " 'kiwi',\n",
              " 'cherry',\n",
              " 'kiwi']"
            ]
          },
          "metadata": {},
          "execution_count": 141
        }
      ]
    },
    {
      "cell_type": "code",
      "source": [
        "del thislist[1:3]"
      ],
      "metadata": {
        "id": "d-VMq9iDOT-S"
      },
      "execution_count": null,
      "outputs": []
    },
    {
      "cell_type": "code",
      "source": [
        "for i in thislist:\n",
        "  print(i)"
      ],
      "metadata": {
        "colab": {
          "base_uri": "https://localhost:8080/"
        },
        "id": "d5bZtkuMQvm_",
        "outputId": "3c14dda1-f590-40fd-bae8-0848dbb6c556"
      },
      "execution_count": null,
      "outputs": [
        {
          "output_type": "stream",
          "name": "stdout",
          "text": [
            "apple\n",
            "mango\n",
            "kiwi\n",
            "cherry\n",
            "kiwi\n",
            "cherry\n",
            "kiwi\n",
            "cherry\n",
            "kiwi\n",
            "cherry\n"
          ]
        }
      ]
    },
    {
      "cell_type": "code",
      "source": [
        "i=0\n",
        "while i<len(thislist):\n",
        "  print(f\"{i}:{thislist[i]}\")\n",
        "  i+=1"
      ],
      "metadata": {
        "colab": {
          "base_uri": "https://localhost:8080/"
        },
        "id": "lgVtZw0DRI4s",
        "outputId": "eda27274-1e2d-4f3f-fa8e-2467f0b83277"
      },
      "execution_count": null,
      "outputs": [
        {
          "output_type": "stream",
          "name": "stdout",
          "text": [
            "0:apple\n",
            "1:mango\n",
            "2:kiwi\n",
            "3:cherry\n",
            "4:kiwi\n",
            "5:cherry\n",
            "6:kiwi\n",
            "7:cherry\n",
            "8:kiwi\n",
            "9:cherry\n"
          ]
        }
      ]
    },
    {
      "cell_type": "code",
      "source": [
        "new_list=[]\n",
        "for i in thislist:\n",
        "  if 'a' in i:\n",
        "    new_list.append(i)\n",
        "new_list"
      ],
      "metadata": {
        "colab": {
          "base_uri": "https://localhost:8080/"
        },
        "id": "wOerKL2PfVWa",
        "outputId": "4a180828-ca57-4d87-b8b2-dec5f00c3278"
      },
      "execution_count": null,
      "outputs": [
        {
          "output_type": "execute_result",
          "data": {
            "text/plain": [
              "['apple', 'mango']"
            ]
          },
          "metadata": {},
          "execution_count": 163
        }
      ]
    },
    {
      "cell_type": "code",
      "source": [
        "thislist.sort(reverse=True)\n",
        "print(thislist)"
      ],
      "metadata": {
        "colab": {
          "base_uri": "https://localhost:8080/"
        },
        "id": "qZd1KSG8hhwZ",
        "outputId": "0f184d45-025c-4c6f-bd75-2c361724a794"
      },
      "execution_count": null,
      "outputs": [
        {
          "output_type": "stream",
          "name": "stdout",
          "text": [
            "['mango', 'kiwi', 'kiwi', 'kiwi', 'kiwi', 'cherry', 'cherry', 'cherry', 'cherry', 'apple']\n"
          ]
        }
      ]
    },
    {
      "cell_type": "code",
      "source": [
        "thislist.reverse()\n",
        "thislist"
      ],
      "metadata": {
        "colab": {
          "base_uri": "https://localhost:8080/"
        },
        "id": "3B6c12vAjz3u",
        "outputId": "bfcec2e7-2d3c-4dd6-ddd5-16b43f32f3d4"
      },
      "execution_count": null,
      "outputs": [
        {
          "output_type": "execute_result",
          "data": {
            "text/plain": [
              "['apple',\n",
              " 'cherry',\n",
              " 'cherry',\n",
              " 'cherry',\n",
              " 'cherry',\n",
              " 'kiwi',\n",
              " 'kiwi',\n",
              " 'kiwi',\n",
              " 'kiwi',\n",
              " 'mango']"
            ]
          },
          "metadata": {},
          "execution_count": 183
        }
      ]
    },
    {
      "cell_type": "code",
      "source": [
        "this_dict={'brand':'Ford','model':'Mustang','year':1964}\n",
        "this_dict"
      ],
      "metadata": {
        "colab": {
          "base_uri": "https://localhost:8080/"
        },
        "id": "QpiZ2Nu4vczY",
        "outputId": "9daeecd8-6536-4e87-e9d8-4bb3e602a3a0"
      },
      "execution_count": null,
      "outputs": [
        {
          "output_type": "execute_result",
          "data": {
            "text/plain": [
              "{'brand': 'Ford', 'model': 'Mustang', 'year': 1964}"
            ]
          },
          "metadata": {},
          "execution_count": 184
        }
      ]
    },
    {
      "cell_type": "code",
      "source": [
        "this_dict['color']='red'\n",
        "this_dict"
      ],
      "metadata": {
        "colab": {
          "base_uri": "https://localhost:8080/"
        },
        "id": "XmufgDSSvoiW",
        "outputId": "5331db60-2937-4cf9-c7be-fd074d1ba195"
      },
      "execution_count": null,
      "outputs": [
        {
          "output_type": "execute_result",
          "data": {
            "text/plain": [
              "{'brand': 'Ford', 'model': 'Mustang', 'year': 1964, 'color': 'red'}"
            ]
          },
          "metadata": {},
          "execution_count": 186
        }
      ]
    },
    {
      "cell_type": "code",
      "source": [
        "this_dict['color']='blue'\n",
        "this_dict"
      ],
      "metadata": {
        "colab": {
          "base_uri": "https://localhost:8080/"
        },
        "id": "v4xbTLj5wSz2",
        "outputId": "82f4ac7c-a856-4bfc-f045-da80886e5bea"
      },
      "execution_count": null,
      "outputs": [
        {
          "output_type": "execute_result",
          "data": {
            "text/plain": [
              "{'brand': 'Ford', 'model': 'Mustang', 'year': 1964, 'color': 'blue'}"
            ]
          },
          "metadata": {},
          "execution_count": 187
        }
      ]
    },
    {
      "cell_type": "code",
      "source": [
        "for x,y in this_dict.items():\n",
        "  print(x,y)"
      ],
      "metadata": {
        "colab": {
          "base_uri": "https://localhost:8080/"
        },
        "id": "73cK7XwMw_kx",
        "outputId": "c4541cd3-df71-47cd-e676-1fd75d26ab23"
      },
      "execution_count": null,
      "outputs": [
        {
          "output_type": "stream",
          "name": "stdout",
          "text": [
            "brand Ford\n",
            "model Mustang\n",
            "year 1964\n",
            "color blue\n"
          ]
        }
      ]
    },
    {
      "cell_type": "code",
      "source": [
        "myfamily = {\n",
        "  \"child1\" : {\n",
        "    \"name\" : \"Emil\",\n",
        "    \"year\" : 2004\n",
        "  },\n",
        "  \"child2\" : {\n",
        "    \"name\" : \"Tobias\",\n",
        "    \"year\" : 2007\n",
        "  },\n",
        "  \"child3\" : {\n",
        "    \"name\" : \"Linus\",\n",
        "    \"year\" : 2011\n",
        "  }\n",
        "}"
      ],
      "metadata": {
        "id": "dGEnDaFhyuPQ"
      },
      "execution_count": null,
      "outputs": []
    },
    {
      "cell_type": "code",
      "source": [
        "type(myfamily)"
      ],
      "metadata": {
        "colab": {
          "base_uri": "https://localhost:8080/"
        },
        "id": "RYMJ7JScyv7F",
        "outputId": "4bccf816-b778-46ad-9512-b4b512fe10b1"
      },
      "execution_count": null,
      "outputs": [
        {
          "output_type": "execute_result",
          "data": {
            "text/plain": [
              "dict"
            ]
          },
          "metadata": {},
          "execution_count": 196
        }
      ]
    },
    {
      "cell_type": "code",
      "source": [
        "for x,y in myfamily.items():\n",
        "  print(f\"{x}:{name}\")"
      ],
      "metadata": {
        "colab": {
          "base_uri": "https://localhost:8080/"
        },
        "id": "h5MFBTLry82Z",
        "outputId": "52cf0c8e-5969-4162-941b-9d9d326dfada"
      },
      "execution_count": null,
      "outputs": [
        {
          "output_type": "stream",
          "name": "stdout",
          "text": [
            "(child1:{'name': 'Emil', 'year': 2004})\n",
            "(child2:{'name': 'Tobias', 'year': 2007})\n",
            "(child3:{'name': 'Linus', 'year': 2011})\n"
          ]
        }
      ]
    },
    {
      "cell_type": "code",
      "source": [
        "x = 2\n",
        "\n",
        "if x > 10:\n",
        "  print(\"Above ten,\")\n",
        "  if x > 20:\n",
        "    print(\"and also above 20!\")\n",
        "  else:\n",
        "    print(\"but not above 20.\")\n",
        "else:\n",
        "  print(\"not above 10\")"
      ],
      "metadata": {
        "colab": {
          "base_uri": "https://localhost:8080/"
        },
        "id": "cPkf4OVC6XQP",
        "outputId": "da498d4d-bff4-4358-e7a3-b665608b184b"
      },
      "execution_count": 18,
      "outputs": [
        {
          "output_type": "stream",
          "name": "stdout",
          "text": [
            "not above 10\n"
          ]
        }
      ]
    },
    {
      "cell_type": "code",
      "source": [
        "#Print i as long as i is less than 6:\n",
        "i=1\n",
        "while i<6:\n",
        "  print(i)\n",
        "  i+=1\n",
        "else:\n",
        "  print('i is greater than 6 ')"
      ],
      "metadata": {
        "colab": {
          "base_uri": "https://localhost:8080/"
        },
        "id": "IAOUwXRHCPN6",
        "outputId": "937400ec-6769-42a5-8641-e4c638a5b805"
      },
      "execution_count": 22,
      "outputs": [
        {
          "output_type": "stream",
          "name": "stdout",
          "text": [
            "1\n",
            "2\n",
            "3\n",
            "4\n",
            "5\n",
            "i is greater than 6 \n"
          ]
        }
      ]
    },
    {
      "cell_type": "code",
      "source": [
        "for x in range(6):\n",
        "  if x == 3: break\n",
        "  print(x)\n",
        "else:\n",
        "  print(\"Finally finished!\")"
      ],
      "metadata": {
        "colab": {
          "base_uri": "https://localhost:8080/"
        },
        "id": "NDNDd0-QFfzk",
        "outputId": "e496c427-fc75-4cf2-87f6-df95fb925eaf"
      },
      "execution_count": 23,
      "outputs": [
        {
          "output_type": "stream",
          "name": "stdout",
          "text": [
            "0\n",
            "1\n",
            "2\n"
          ]
        }
      ]
    },
    {
      "cell_type": "code",
      "source": [
        "adj = [\"red\", \"big\", \"tasty\"]\n",
        "fruits = [\"apple\", \"banana\", \"cherry\"]\n",
        "\n",
        "for x in adj:\n",
        "  for y in fruits:\n",
        "    print(x, y)"
      ],
      "metadata": {
        "colab": {
          "base_uri": "https://localhost:8080/"
        },
        "id": "qq9oO2j1KTfV",
        "outputId": "6aabbf69-adcf-450f-fe24-c23f0ea739b0"
      },
      "execution_count": 1,
      "outputs": [
        {
          "output_type": "stream",
          "name": "stdout",
          "text": [
            "red apple\n",
            "red banana\n",
            "red cherry\n",
            "big apple\n",
            "big banana\n",
            "big cherry\n",
            "tasty apple\n",
            "tasty banana\n",
            "tasty cherry\n"
          ]
        }
      ]
    },
    {
      "cell_type": "code",
      "source": [
        "mylist=['Sangita','Madhumita','Krittika','Rajita']\n",
        "def my_love(girl_name):\n",
        "  if girl_name in mylist:\n",
        "    print(f\"If {girl_name} marry me, her name would be {girl_name} Guchhait.\")\n",
        "  else:\n",
        "    print(f\"Sorry, {girl_name} is not in the list!\")\n",
        "my_love('Ankita')"
      ],
      "metadata": {
        "colab": {
          "base_uri": "https://localhost:8080/"
        },
        "id": "B-Q4Lu1okCYg",
        "outputId": "54f64387-e490-4c60-b92b-3ae1aefffdd1"
      },
      "execution_count": 30,
      "outputs": [
        {
          "output_type": "stream",
          "name": "stdout",
          "text": [
            "Sorry, Ankita is not in the list!\n"
          ]
        }
      ]
    },
    {
      "cell_type": "code",
      "source": [
        "def my_function(*kids):\n",
        "  print(f\"My youngest child is {kids[-1]}\")\n",
        "my_function('Sonu','Manu')"
      ],
      "metadata": {
        "colab": {
          "base_uri": "https://localhost:8080/"
        },
        "id": "MzEaDabdrZDq",
        "outputId": "d346a1aa-9c0e-401b-deb3-4cc1fb0b6910"
      },
      "execution_count": 29,
      "outputs": [
        {
          "output_type": "stream",
          "name": "stdout",
          "text": [
            "My youngest child is Manu\n"
          ]
        }
      ]
    }
  ]
}