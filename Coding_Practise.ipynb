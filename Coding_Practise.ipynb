{
  "nbformat": 4,
  "nbformat_minor": 0,
  "metadata": {
    "colab": {
      "provenance": [],
      "authorship_tag": "ABX9TyN0i8LF7XSsZDH3y9kFdKs8",
      "include_colab_link": true
    },
    "kernelspec": {
      "name": "python3",
      "display_name": "Python 3"
    },
    "language_info": {
      "name": "python"
    }
  },
  "cells": [
    {
      "cell_type": "markdown",
      "metadata": {
        "id": "view-in-github",
        "colab_type": "text"
      },
      "source": [
        "<a href=\"https://colab.research.google.com/github/aguchhait-stack/API-Call/blob/main/Coding_Practise.ipynb\" target=\"_parent\"><img src=\"https://colab.research.google.com/assets/colab-badge.svg\" alt=\"Open In Colab\"/></a>"
      ]
    },
    {
      "cell_type": "markdown",
      "source": [
        "1. Leap Year"
      ],
      "metadata": {
        "id": "MU0wT8qFZi-R"
      }
    },
    {
      "cell_type": "code",
      "execution_count": null,
      "metadata": {
        "colab": {
          "base_uri": "https://localhost:8080/"
        },
        "id": "CnaGYQBRL-uD",
        "outputId": "2451e631-f08b-4b33-ef04-698e44844eb2"
      },
      "outputs": [
        {
          "output_type": "stream",
          "name": "stdout",
          "text": [
            "Enter the Year: 1992\n",
            "Is it Leap Year?: True\n"
          ]
        }
      ],
      "source": [
        "def is_leap(year):\n",
        "  leap = False\n",
        "  if year %4 ==0:\n",
        "    if year%100==0:\n",
        "      if year%400==0:\n",
        "        leap=True\n",
        "      else:\n",
        "        leap =False\n",
        "    else:\n",
        "      leap =True\n",
        "  else:\n",
        "    leap =False\n",
        "  return leap\n",
        "year = int(input(\"Enter the Year: \" ))\n",
        "print('Is it Leap Year?:', is_leap(year))"
      ]
    },
    {
      "cell_type": "code",
      "source": [
        "# One line version\n",
        "def is_leap(year):\n",
        "  return year%4==0 and (year%100!=0 or year%400==0)\n",
        "year = int(input(\"Enter the Year: \" ))\n",
        "print('Is it Leap Year?:', is_leap(year))"
      ],
      "metadata": {
        "colab": {
          "base_uri": "https://localhost:8080/"
        },
        "id": "MCrq4uhEXeZc",
        "outputId": "0d4d01be-eae8-47f1-a067-a48755b96727"
      },
      "execution_count": null,
      "outputs": [
        {
          "output_type": "stream",
          "name": "stdout",
          "text": [
            "Enter the Year: 1992\n",
            "Is it Leap Year?: True\n"
          ]
        }
      ]
    },
    {
      "cell_type": "markdown",
      "source": [
        "2. Factorial (using recursion)"
      ],
      "metadata": {
        "id": "f7ZeviwQZxAs"
      }
    },
    {
      "cell_type": "code",
      "source": [
        "def factorial(n):\n",
        "  if n == 0 or n == 1:\n",
        "    return 1\n",
        "  else:\n",
        "    return n*factorial(n-1)\n",
        "n= int(input(\"Enter the number: \"))\n",
        "print(factorial(n))"
      ],
      "metadata": {
        "colab": {
          "base_uri": "https://localhost:8080/"
        },
        "id": "4E48uwYyZ75W",
        "outputId": "7c32c321-4ad4-428b-c5a5-590c09e421e9"
      },
      "execution_count": null,
      "outputs": [
        {
          "output_type": "stream",
          "name": "stdout",
          "text": [
            "Enter the number: 5\n",
            "120\n"
          ]
        }
      ]
    },
    {
      "cell_type": "markdown",
      "source": [
        "3. Check Palindrome String"
      ],
      "metadata": {
        "id": "6oZ7SV9gbzND"
      }
    },
    {
      "cell_type": "code",
      "source": [
        "def is_palindrome(s):\n",
        "  s=s.lower().replace(\" \",\"\")\n",
        "  return s==s[::-1]\n",
        "s=input('Enter the string: ')\n",
        "print(is_palindrome(s))"
      ],
      "metadata": {
        "colab": {
          "base_uri": "https://localhost:8080/"
        },
        "id": "irV7tnaCb1KC",
        "outputId": "210152ef-b185-42e9-f437-90dd44f119d6"
      },
      "execution_count": null,
      "outputs": [
        {
          "output_type": "stream",
          "name": "stdout",
          "text": [
            "Enter the string: Ma   d  a m\n",
            "True\n"
          ]
        }
      ]
    },
    {
      "cell_type": "markdown",
      "source": [
        "4. Prime Number"
      ],
      "metadata": {
        "id": "T6lXSNjd32E5"
      }
    },
    {
      "cell_type": "code",
      "source": [
        "def is_prime(n):\n",
        "  if n<=1:\n",
        "    return False\n",
        "  for i in range(2,n-1):\n",
        "    if n%i==0:\n",
        "      return False\n",
        "  return True\n",
        "n=int(input(\"Enter the number: \"))\n",
        "print(is_prime(n))"
      ],
      "metadata": {
        "colab": {
          "base_uri": "https://localhost:8080/"
        },
        "id": "KaXS5lhs37hm",
        "outputId": "066f891b-b31c-4aa3-ce77-5a8bc6fa139c"
      },
      "execution_count": 2,
      "outputs": [
        {
          "output_type": "stream",
          "name": "stdout",
          "text": [
            "Enter the number: 11\n",
            "True\n"
          ]
        }
      ]
    }
  ]
}