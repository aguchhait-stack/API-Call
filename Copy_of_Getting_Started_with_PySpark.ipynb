{
  "nbformat": 4,
  "nbformat_minor": 0,
  "metadata": {
    "colab": {
      "provenance": [],
      "collapsed_sections": [
        "kkSXsFae8Cct",
        "7AYS0MlUvfrI",
        "WNaboQo22HOW",
        "2fj4XecA5nX_",
        "fUjc4g4xHE7p",
        "D6Syynf5QCxB",
        "0k8qNqs2T2a0",
        "jzlxJnZ6bNcq"
      ],
      "include_colab_link": true
    },
    "kernelspec": {
      "name": "python3",
      "display_name": "Python 3"
    },
    "language_info": {
      "name": "python"
    }
  },
  "cells": [
    {
      "cell_type": "markdown",
      "metadata": {
        "id": "view-in-github",
        "colab_type": "text"
      },
      "source": [
        "<a href=\"https://colab.research.google.com/github/aguchhait-stack/API-Call/blob/main/Copy_of_Getting_Started_with_PySpark.ipynb\" target=\"_parent\"><img src=\"https://colab.research.google.com/assets/colab-badge.svg\" alt=\"Open In Colab\"/></a>"
      ]
    },
    {
      "cell_type": "markdown",
      "metadata": {
        "id": "32fjpkeS-nYP"
      },
      "source": [
        "#Getting Started with PySpark in Google Colab\n",
        "\n",
        "PySpark is Python interface for Apache Spark. The primary use cases for PySpark are to work with huge amounts of data and for creating data pipelines.\n",
        "\n",
        "You don't need to work with big data to benefit from PySpark. I find that the SparkSQL is a great tool for performing routine data anlysis. Pandas can get slow and you may find yourself writing a lot of code for data cleaning whereas the same actions take much less code in SQL. Let's get started!\n",
        "\n",
        "See more here! http://spark.apache.org/docs/latest/api/python/"
      ]
    },
    {
      "cell_type": "markdown",
      "metadata": {
        "id": "m9yXqV3LigUA"
      },
      "source": [
        "# 1. Installing PySpark in Google Colab"
      ]
    },
    {
      "cell_type": "code",
      "metadata": {
        "colab": {
          "base_uri": "https://localhost:8080/",
          "height": 216
        },
        "id": "hxv7w_2y2bb9",
        "outputId": "f7b79eb0-9237-436d-af70-32fda5f0f16b"
      },
      "source": [
        "\n",
        "import os\n",
        "import sys\n",
        "# os.environ[\"JAVA_HOME\"] = \"/usr/lib/jvm/java-8-openjdk-amd64\"\n",
        "# os.environ[\"SPARK_HOME\"] = \"/content/spark-3.2.1-bin-hadoop3.2\"\n",
        "\n",
        "\n",
        "import findspark\n",
        "findspark.init()\n",
        "findspark.find()\n",
        "\n",
        "import pyspark\n",
        "\n",
        "from pyspark.sql import DataFrame, SparkSession\n",
        "from typing import List\n",
        "import pyspark.sql.types as T\n",
        "import pyspark.sql.functions as F\n",
        "\n",
        "spark= SparkSession \\\n",
        "       .builder \\\n",
        "       .appName(\"Our First Spark Example\") \\\n",
        "       .getOrCreate()\n",
        "\n",
        "spark"
      ],
      "execution_count": 4,
      "outputs": [
        {
          "output_type": "execute_result",
          "data": {
            "text/plain": [
              "<pyspark.sql.session.SparkSession at 0x796afd05c590>"
            ],
            "text/html": [
              "\n",
              "            <div>\n",
              "                <p><b>SparkSession - in-memory</b></p>\n",
              "                \n",
              "        <div>\n",
              "            <p><b>SparkContext</b></p>\n",
              "\n",
              "            <p><a href=\"http://c70f9dcb5575:4040\">Spark UI</a></p>\n",
              "\n",
              "            <dl>\n",
              "              <dt>Version</dt>\n",
              "                <dd><code>v3.5.4</code></dd>\n",
              "              <dt>Master</dt>\n",
              "                <dd><code>local[*]</code></dd>\n",
              "              <dt>AppName</dt>\n",
              "                <dd><code>Our First Spark Example</code></dd>\n",
              "            </dl>\n",
              "        </div>\n",
              "        \n",
              "            </div>\n",
              "        "
            ]
          },
          "metadata": {},
          "execution_count": 4
        }
      ]
    },
    {
      "cell_type": "markdown",
      "metadata": {
        "id": "UHvKMqLQ4ezk"
      },
      "source": [
        "# 2. Reading Data\n",
        "\n",
        "For this example, I am going to use a publicly available data set in a CSV format."
      ]
    },
    {
      "cell_type": "code",
      "metadata": {
        "id": "xzvNxiQSixRU"
      },
      "source": [
        "import requests\n",
        "path = \"https://raw.githubusercontent.com/owid/covid-19-data/master/public/data/owid-covid-data.csv\"\n",
        "req = requests.get(path)\n",
        "url_content = req.content\n",
        "\n",
        "csv_file_name = 'owid-covid-data.csv'\n",
        "csv_file = open(csv_file_name, 'wb')\n",
        "\n",
        "csv_file.write(url_content)\n",
        "csv_file.close()\n",
        "\n",
        "df = spark.read.csv('/content/'+csv_file_name, header=True, inferSchema=True)"
      ],
      "execution_count": null,
      "outputs": []
    },
    {
      "cell_type": "markdown",
      "metadata": {
        "id": "nYRUC46L_8zX"
      },
      "source": [
        "#3. PySpark DataFrames"
      ]
    },
    {
      "cell_type": "code",
      "metadata": {
        "colab": {
          "base_uri": "https://localhost:8080/"
        },
        "id": "t-PgzP3IjZsV",
        "outputId": "d928fa0f-9bf1-492d-e713-9143b2959c0b"
      },
      "source": [
        "#Viewing the dataframe schema\n",
        "df.printSchema( )"
      ],
      "execution_count": null,
      "outputs": [
        {
          "output_type": "stream",
          "name": "stdout",
          "text": [
            "root\n",
            " |-- iso_code: string (nullable = true)\n",
            " |-- continent: string (nullable = true)\n",
            " |-- location: string (nullable = true)\n",
            " |-- date: date (nullable = true)\n",
            " |-- total_cases: integer (nullable = true)\n",
            " |-- new_cases: integer (nullable = true)\n",
            " |-- new_cases_smoothed: double (nullable = true)\n",
            " |-- total_deaths: integer (nullable = true)\n",
            " |-- new_deaths: integer (nullable = true)\n",
            " |-- new_deaths_smoothed: double (nullable = true)\n",
            " |-- total_cases_per_million: double (nullable = true)\n",
            " |-- new_cases_per_million: double (nullable = true)\n",
            " |-- new_cases_smoothed_per_million: double (nullable = true)\n",
            " |-- total_deaths_per_million: double (nullable = true)\n",
            " |-- new_deaths_per_million: double (nullable = true)\n",
            " |-- new_deaths_smoothed_per_million: double (nullable = true)\n",
            " |-- reproduction_rate: double (nullable = true)\n",
            " |-- icu_patients: integer (nullable = true)\n",
            " |-- icu_patients_per_million: double (nullable = true)\n",
            " |-- hosp_patients: integer (nullable = true)\n",
            " |-- hosp_patients_per_million: double (nullable = true)\n",
            " |-- weekly_icu_admissions: integer (nullable = true)\n",
            " |-- weekly_icu_admissions_per_million: double (nullable = true)\n",
            " |-- weekly_hosp_admissions: integer (nullable = true)\n",
            " |-- weekly_hosp_admissions_per_million: double (nullable = true)\n",
            " |-- total_tests: long (nullable = true)\n",
            " |-- new_tests: integer (nullable = true)\n",
            " |-- total_tests_per_thousand: double (nullable = true)\n",
            " |-- new_tests_per_thousand: double (nullable = true)\n",
            " |-- new_tests_smoothed: double (nullable = true)\n",
            " |-- new_tests_smoothed_per_thousand: double (nullable = true)\n",
            " |-- positive_rate: double (nullable = true)\n",
            " |-- tests_per_case: double (nullable = true)\n",
            " |-- tests_units: string (nullable = true)\n",
            " |-- total_vaccinations: long (nullable = true)\n",
            " |-- people_vaccinated: long (nullable = true)\n",
            " |-- people_fully_vaccinated: long (nullable = true)\n",
            " |-- total_boosters: long (nullable = true)\n",
            " |-- new_vaccinations: integer (nullable = true)\n",
            " |-- new_vaccinations_smoothed: double (nullable = true)\n",
            " |-- total_vaccinations_per_hundred: double (nullable = true)\n",
            " |-- people_vaccinated_per_hundred: double (nullable = true)\n",
            " |-- people_fully_vaccinated_per_hundred: double (nullable = true)\n",
            " |-- total_boosters_per_hundred: double (nullable = true)\n",
            " |-- new_vaccinations_smoothed_per_million: double (nullable = true)\n",
            " |-- new_people_vaccinated_smoothed: double (nullable = true)\n",
            " |-- new_people_vaccinated_smoothed_per_hundred: double (nullable = true)\n",
            " |-- stringency_index: double (nullable = true)\n",
            " |-- population_density: double (nullable = true)\n",
            " |-- median_age: double (nullable = true)\n",
            " |-- aged_65_older: double (nullable = true)\n",
            " |-- aged_70_older: double (nullable = true)\n",
            " |-- gdp_per_capita: double (nullable = true)\n",
            " |-- extreme_poverty: double (nullable = true)\n",
            " |-- cardiovasc_death_rate: double (nullable = true)\n",
            " |-- diabetes_prevalence: double (nullable = true)\n",
            " |-- female_smokers: double (nullable = true)\n",
            " |-- male_smokers: double (nullable = true)\n",
            " |-- handwashing_facilities: double (nullable = true)\n",
            " |-- hospital_beds_per_thousand: double (nullable = true)\n",
            " |-- life_expectancy: double (nullable = true)\n",
            " |-- human_development_index: double (nullable = true)\n",
            " |-- population: long (nullable = true)\n",
            " |-- excess_mortality_cumulative_absolute: double (nullable = true)\n",
            " |-- excess_mortality_cumulative: double (nullable = true)\n",
            " |-- excess_mortality: double (nullable = true)\n",
            " |-- excess_mortality_cumulative_per_million: double (nullable = true)\n",
            "\n"
          ]
        }
      ]
    },
    {
      "cell_type": "code",
      "metadata": {
        "colab": {
          "base_uri": "https://localhost:8080/"
        },
        "id": "_KKBv0ZCFbP5",
        "outputId": "690385ef-402c-4476-d83b-117d8a1928a7"
      },
      "source": [
        "#Converting a date column\n",
        "df.select(F.to_date(df.date).alias('date'))"
      ],
      "execution_count": null,
      "outputs": [
        {
          "output_type": "execute_result",
          "data": {
            "text/plain": [
              "DataFrame[date: date]"
            ]
          },
          "metadata": {},
          "execution_count": 12
        }
      ]
    },
    {
      "cell_type": "code",
      "source": [
        "df.count()"
      ],
      "metadata": {
        "colab": {
          "base_uri": "https://localhost:8080/"
        },
        "id": "Im8YYuoqxyu9",
        "outputId": "cb55acd9-b9cf-49d9-8582-97842a48a315"
      },
      "execution_count": null,
      "outputs": [
        {
          "output_type": "execute_result",
          "data": {
            "text/plain": [
              "429435"
            ]
          },
          "metadata": {},
          "execution_count": 17
        }
      ]
    },
    {
      "cell_type": "code",
      "metadata": {
        "colab": {
          "base_uri": "https://localhost:8080/"
        },
        "id": "G2ylA4B2kfd2",
        "outputId": "43dbc2e0-f962-4566-bba7-e8957ec482df"
      },
      "source": [
        "#Summary stats\n",
        "df.describe().show()"
      ],
      "execution_count": null,
      "outputs": [
        {
          "output_type": "stream",
          "name": "stdout",
          "text": [
            "+-------+--------+-------------+-----------+--------------------+------------------+------------------+------------------+------------------+-------------------+-----------------------+---------------------+------------------------------+------------------------+----------------------+-------------------------------+------------------+------------------+------------------------+------------------+-------------------------+---------------------+---------------------------------+----------------------+----------------------------------+-------------------+------------------+------------------------+----------------------+------------------+-------------------------------+-------------------+------------------+-------------+--------------------+--------------------+-----------------------+--------------------+------------------+-------------------------+------------------------------+-----------------------------+-----------------------------------+--------------------------+-------------------------------------+------------------------------+------------------------------------------+------------------+------------------+-----------------+-----------------+-----------------+-----------------+------------------+---------------------+-------------------+------------------+------------------+----------------------+--------------------------+-----------------+-----------------------+--------------------+------------------------------------+---------------------------+------------------+---------------------------------------+\n",
            "|summary|iso_code|    continent|   location|         total_cases|         new_cases|new_cases_smoothed|      total_deaths|        new_deaths|new_deaths_smoothed|total_cases_per_million|new_cases_per_million|new_cases_smoothed_per_million|total_deaths_per_million|new_deaths_per_million|new_deaths_smoothed_per_million| reproduction_rate|      icu_patients|icu_patients_per_million|     hosp_patients|hosp_patients_per_million|weekly_icu_admissions|weekly_icu_admissions_per_million|weekly_hosp_admissions|weekly_hosp_admissions_per_million|        total_tests|         new_tests|total_tests_per_thousand|new_tests_per_thousand|new_tests_smoothed|new_tests_smoothed_per_thousand|      positive_rate|    tests_per_case|  tests_units|  total_vaccinations|   people_vaccinated|people_fully_vaccinated|      total_boosters|  new_vaccinations|new_vaccinations_smoothed|total_vaccinations_per_hundred|people_vaccinated_per_hundred|people_fully_vaccinated_per_hundred|total_boosters_per_hundred|new_vaccinations_smoothed_per_million|new_people_vaccinated_smoothed|new_people_vaccinated_smoothed_per_hundred|  stringency_index|population_density|       median_age|    aged_65_older|    aged_70_older|   gdp_per_capita|   extreme_poverty|cardiovasc_death_rate|diabetes_prevalence|    female_smokers|      male_smokers|handwashing_facilities|hospital_beds_per_thousand|  life_expectancy|human_development_index|          population|excess_mortality_cumulative_absolute|excess_mortality_cumulative|  excess_mortality|excess_mortality_cumulative_per_million|\n",
            "+-------+--------+-------------+-----------+--------------------+------------------+------------------+------------------+------------------+-------------------+-----------------------+---------------------+------------------------------+------------------------+----------------------+-------------------------------+------------------+------------------+------------------------+------------------+-------------------------+---------------------+---------------------------------+----------------------+----------------------------------+-------------------+------------------+------------------------+----------------------+------------------+-------------------------------+-------------------+------------------+-------------+--------------------+--------------------+-----------------------+--------------------+------------------+-------------------------+------------------------------+-----------------------------+-----------------------------------+--------------------------+-------------------------------------+------------------------------+------------------------------------------+------------------+------------------+-----------------+-----------------+-----------------+-----------------+------------------+---------------------+-------------------+------------------+------------------+----------------------+--------------------------+-----------------+-----------------------+--------------------+------------------------------------+---------------------------+------------------+---------------------------------------+\n",
            "|  count|  429435|       402910|     429435|              411804|            410159|            408929|            411804|            410608|             409378|                 411804|               410159|                        408929|                  411804|                410608|                         409378|            184817|             39116|                   39116|             40656|                    40656|                10993|                            10993|                 24497|                             24497|              79387|             75403|                   79387|                 75403|            103965|                         103965|              95927|             94348|       106788|               85417|               81132|                  78061|               53600|             70971|                   195029|                         85417|                        81132|                              78061|                     53600|                               195029|                        192177|                                    192177|            196190|            360492|           334663|           323270|           331315|           328292|            211996|               328865|             345911|            247165|            243817|                161741|                    290689|           390299|                 319127|              429435|                               13411|                      13411|             13411|                                  13411|\n",
            "|   mean|    NULL|         NULL|       NULL|   7365292.354484173| 8017.359933586731| 8041.025764105862| 81259.57427805461|  71.8521387795659|  72.06082842751668|      112096.1994198345|    122.3570729156252|            122.71385223351919|       835.5143373303115|     0.762321118926083|             0.7645298965747763|0.9114953710968031| 660.9714183454341|       15.65633704877805|3911.7415633608816|       125.98798430735995|    317.8941144364596|                9.672003092877342|     4291.723313058742|                 82.61909335837018|2.110457393801252E7| 67285.41211888121|       924.2547520374865|     3.272460644801953| 142178.3636993219|              2.826364064829437|0.09807895587272192|2403.6328072667206|         NULL| 5.616979834254072E8|2.4870641074005324E8|   2.2866391007339132E8|1.5058105890156716E8| 739864.0267433177|         283875.815135185|            124.27955758221208|           53.501408815266124|                  48.68018216522806|         36.30148861940385|                    1851.477595639623|            106070.69886614944|                        0.0746783954375727|42.877560324177246|394.07293207628214|30.45629573630679|8.683893123390828| 5.48649406154467|18904.18297157362|13.924729240173166|   264.63953369921944|  8.556055112444161|10.772437926085267| 33.09775758049117|     50.64939038340143|         3.106894825741913|73.70209836562722|      0.722177816355364|1.5203364039627418E8|                   56047.65355081658|           9.76643128774885|10.925353068376719|                      1772.666404444117|\n",
            "| stddev|    NULL|         NULL|       NULL|4.4775816766719416E7|229664.86673059216| 86616.11129828084|441190.13823694026|1368.3229897006734|  513.6365647780609|     162240.41240534364|    1508.778585017234|             559.7016625157952|      1134.9326412975213|    6.9825321502298605|             2.5465425967129915|0.3999249955670573|2139.6155316531654|      22.785484573679305|  9845.75048474152|       151.15580968843355|     514.412910014471|                 13.5739364120081|    10919.623681068975|                 88.39674021718216|8.409869431109455E7|247734.00456983913|      2195.4284900423604|     9.033825668420926|1138214.6555840792|              7.308224750925745|0.11609736423216013| 33443.66067673303|         NULL|1.8421601519016929E9| 8.006460511265795E8|    7.403763390430303E8|4.3606965526954716E8|3183064.3833058253|        1922351.903822936|              85.0980417725314|            29.37965525356042|                  29.04228237602243|        30.218207758290283|                   3117.8287311520344|             786688.3872564286|                        0.1763644895284445|24.870492159098117| 1785.451280856032|9.093554097916535|6.093036775012917|4.136259577320776|19829.57783617315| 20.07391201458323|   120.75669846048524|  4.934656332730466|10.761090599624634|13.853951593722675|    31.905236293065695|        2.5491677982799974|7.387914446278974|     0.1492369934254508| 6.975407716680971E8|                    156869.075632921|         12.040658432826891| 24.56070592968765|                     1991.8927704585392|\n",
            "|    min|     ABW|       Africa|Afghanistan|                   0|                 0|               0.0|                 0|                 0|                0.0|                    0.0|                  0.0|                           0.0|                     0.0|                   0.0|                            0.0|             -0.07|                 0|                     0.0|                 0|                      0.0|                    0|                              0.0|                     0|                               0.0|                  0|                 1|                     0.0|                   0.0|               0.0|                            0.0|                0.0|               1.0|people tested|                   0|                   0|                      1|                   1|                 0|                      0.0|                           0.0|                          0.0|                                0.0|                       0.0|                                  0.0|                           0.0|                                       0.0|               0.0|              0.14|             15.1|             1.14|             0.53|           661.24|               0.1|                79.37|               0.99|               0.1|               7.7|                  1.19|                       0.1|            53.28|                   0.39|                  47|                            -37726.1|                     -44.23|            -95.92|                               -2936.45|\n",
            "|    max|     ZWE|South America|   Zimbabwe|           775866783|          44236227|         6319461.0|           7057132|            103719|            14817.0|               763598.6|            241758.23|                      34536.89|                 6601.11|                893.66|                         127.66|              5.87|             28891|                  180.68|            154497|                  1526.85|                 4838|                           224.98|                153977|                            717.08|         9214000000|          35855632|                32925.83|                531.06|       1.4769984E7|                          147.6|                1.0|         1023631.9|units unclear|         13578774356|          5631263739|             5177942957|          2817381093|          49673198|              4.3691814E7|                        410.23|                       129.07|                             126.89|                    150.47|                             117113.0|                   2.1071266E7|                                     11.71|             100.0|          20546.77|             48.2|            27.05|            18.49|         116935.6|              77.6|               724.42|              30.53|              44.0|              78.1|                 100.0|                      13.8|            86.75|                   0.96|          7975105024|                           1349776.4|                      78.08|            378.22|                               10293.52|\n",
            "+-------+--------+-------------+-----------+--------------------+------------------+------------------+------------------+------------------+-------------------+-----------------------+---------------------+------------------------------+------------------------+----------------------+-------------------------------+------------------+------------------+------------------------+------------------+-------------------------+---------------------+---------------------------------+----------------------+----------------------------------+-------------------+------------------+------------------------+----------------------+------------------+-------------------------------+-------------------+------------------+-------------+--------------------+--------------------+-----------------------+--------------------+------------------+-------------------------+------------------------------+-----------------------------+-----------------------------------+--------------------------+-------------------------------------+------------------------------+------------------------------------------+------------------+------------------+-----------------+-----------------+-----------------+-----------------+------------------+---------------------+-------------------+------------------+------------------+----------------------+--------------------------+-----------------+-----------------------+--------------------+------------------------------------+---------------------------+------------------+---------------------------------------+\n",
            "\n"
          ]
        }
      ]
    },
    {
      "cell_type": "code",
      "metadata": {
        "colab": {
          "base_uri": "https://localhost:8080/"
        },
        "id": "WRX6qF_dEp9l",
        "outputId": "ffb4203f-1db7-46ab-ba65-2abbb351f9f2"
      },
      "source": [
        "#DataFrame Filtering\n",
        "df.filter(df.location == \"United States\").orderBy(F.desc(\"date\")).show()"
      ],
      "execution_count": null,
      "outputs": [
        {
          "output_type": "stream",
          "name": "stdout",
          "text": [
            "+--------+-------------+-------------+----------+-----------+---------+------------------+------------+----------+-------------------+-----------------------+---------------------+------------------------------+------------------------+----------------------+-------------------------------+-----------------+------------+------------------------+-------------+-------------------------+---------------------+---------------------------------+----------------------+----------------------------------+---------+------------+------------------------+----------------------+------------------+-------------------------------+-------------+--------------+---------------+------------------+-----------------+-----------------------+--------------+----------------+-------------------------+------------------------------+-----------------------------+-----------------------------------+--------------------------+-------------------------------------+------------------------------+------------------------------------------+----------------+------------+------------------+----------+-------------+-------------+--------------+---------------+---------------------+-------------------+--------------+------------+----------------------+--------------------------+---------------+-----------------------+------------------------------------+---------------------------+----------------+---------------------------------------+\n",
            "|iso_code|    continent|     location|      date|total_cases|new_cases|new_cases_smoothed|total_deaths|new_deaths|new_deaths_smoothed|total_cases_per_million|new_cases_per_million|new_cases_smoothed_per_million|total_deaths_per_million|new_deaths_per_million|new_deaths_smoothed_per_million|reproduction_rate|icu_patients|icu_patients_per_million|hosp_patients|hosp_patients_per_million|weekly_icu_admissions|weekly_icu_admissions_per_million|weekly_hosp_admissions|weekly_hosp_admissions_per_million|new_tests| total_tests|total_tests_per_thousand|new_tests_per_thousand|new_tests_smoothed|new_tests_smoothed_per_thousand|positive_rate|tests_per_case|    tests_units|total_vaccinations|people_vaccinated|people_fully_vaccinated|total_boosters|new_vaccinations|new_vaccinations_smoothed|total_vaccinations_per_hundred|people_vaccinated_per_hundred|people_fully_vaccinated_per_hundred|total_boosters_per_hundred|new_vaccinations_smoothed_per_million|new_people_vaccinated_smoothed|new_people_vaccinated_smoothed_per_hundred|stringency_index|  population|population_density|median_age|aged_65_older|aged_70_older|gdp_per_capita|extreme_poverty|cardiovasc_death_rate|diabetes_prevalence|female_smokers|male_smokers|handwashing_facilities|hospital_beds_per_thousand|life_expectancy|human_development_index|excess_mortality_cumulative_absolute|excess_mortality_cumulative|excess_mortality|excess_mortality_cumulative_per_million|\n",
            "+--------+-------------+-------------+----------+-----------+---------+------------------+------------+----------+-------------------+-----------------------+---------------------+------------------------------+------------------------+----------------------+-------------------------------+-----------------+------------+------------------------+-------------+-------------------------+---------------------+---------------------------------+----------------------+----------------------------------+---------+------------+------------------------+----------------------+------------------+-------------------------------+-------------+--------------+---------------+------------------+-----------------+-----------------------+--------------+----------------+-------------------------+------------------------------+-----------------------------+-----------------------------------+--------------------------+-------------------------------------+------------------------------+------------------------------------------+----------------+------------+------------------+----------+-------------+-------------+--------------+---------------+---------------------+-------------------+--------------+------------+----------------------+--------------------------+---------------+-----------------------+------------------------------------+---------------------------+----------------+---------------------------------------+\n",
            "|     USA|North America|United States|2021-12-29|5.3659688E7| 489267.0|        300886.714|    822892.0|    2184.0|           1546.143|             161181.311|             1469.645|                       903.794|                2471.778|                  6.56|                          4.644|             null|     17611.0|                  52.899|      83973.0|                  252.235|                 null|                             null|               78656.0|                           236.264|     null|        null|                    null|                  null|              null|                           null|         null|          null|           null|      5.06313935E8|     2.43182423E8|           2.04050418E8|   6.7877205E7|             2.0|                 443503.0|                         152.5|                        73.25|                              61.46|                     20.44|                               1336.0|                      124024.0|                                     0.037|            null|3.32915074E8|            35.608|      38.3|       15.413|        9.732|     54225.446|            1.2|              151.089|              10.79|          19.1|        24.6|                  null|                      2.77|          78.86|                  0.926|                                null|                       null|            null|                                   null|\n",
            "|     USA|North America|United States|2021-12-28|5.3170421E7| 377014.0|        265427.286|    820708.0|    2337.0|           1523.286|             159711.666|             1132.463|                       797.282|                2465.217|                  7.02|                          4.576|             null|     17228.0|                  51.749|      79228.0|                  237.983|                 null|                             null|               72835.0|                            218.78|     null|        null|                    null|                  null|              null|                           null|         null|          null|           null|      5.06313933E8|     2.43182421E8|           2.04050418E8|   6.7877205E7|        157575.0|                 679273.0|                         152.5|                        73.25|                              61.46|                     20.44|                               2046.0|                      184309.0|                                     0.056|            null|3.32915074E8|            35.608|      38.3|       15.413|        9.732|     54225.446|            1.2|              151.089|              10.79|          19.1|        24.6|                  null|                      2.77|          78.86|                  0.926|                                null|                       null|            null|                                   null|\n",
            "|     USA|North America|United States|2021-12-27|5.2793407E7| 512553.0|          237061.0|    818371.0|    1762.0|           1452.857|             158579.203|             1539.591|                       712.076|                2458.197|                 5.293|                          4.364|             1.56|     17057.0|                  51.235|      74532.0|                  223.877|                 null|                             null|               67924.0|                           204.028|     null|        null|                    null|                  null|              null|                           null|         null|          null|           null|      5.06156358E8|     2.43131543E8|            2.0402899E8|   6.7792556E7|        882326.0|                 909036.0|                        152.45|                        73.23|                              61.45|                     20.42|                               2738.0|                      241103.0|                                     0.073|            null|3.32915074E8|            35.608|      38.3|       15.413|        9.732|     54225.446|            1.2|              151.089|              10.79|          19.1|        24.6|                  null|                      2.77|          78.86|                  0.926|                                null|                       null|            null|                                   null|\n",
            "|     USA|North America|United States|2021-12-26|5.2280854E7| 181948.0|        198404.714|    816609.0|      76.0|           1408.571|             157039.612|               546.53|                       595.962|                2452.905|                 0.228|                          4.231|             1.51|     16590.0|                  49.833|      69675.0|                  209.288|                 null|                             null|               64543.0|                           193.872|     null|        null|                    null|                  null|              null|                           null|         null|          null|           null|      5.05274032E8|     2.42885569E8|            2.0389074E8|   6.7292763E7|        430949.0|                1023195.0|                        152.19|                        73.16|                              61.41|                     20.27|                               3082.0|                      267566.0|                                     0.081|            null|3.32915074E8|            35.608|      38.3|       15.413|        9.732|     54225.446|            1.2|              151.089|              10.79|          19.1|        24.6|                  null|                      2.77|          78.86|                  0.926|                                null|                       null|            null|                                   null|\n",
            "|     USA|North America|United States|2021-12-25|5.2098906E7|  56953.0|        184801.714|    816533.0|      97.0|           1421.429|             156493.082|              171.074|                       555.102|                2452.677|                 0.291|                           4.27|             1.45|     16360.0|                  49.142|      66432.0|                  199.546|                 null|                             null|               62258.0|                           187.009|     null|        null|                    null|                  null|              null|                           null|         null|          null|           null|      5.04843083E8|     2.42760071E8|            2.0381673E8|   6.7061221E7|          4299.0|                1047540.0|                        152.06|                        73.12|                              61.39|                      20.2|                               3155.0|                      273673.0|                                     0.082|            null|3.32915074E8|            35.608|      38.3|       15.413|        9.732|     54225.446|            1.2|              151.089|              10.79|          19.1|        24.6|                  null|                      2.77|          78.86|                  0.926|                                null|                       null|            null|                                   null|\n",
            "|     USA|North America|United States|2021-12-24|5.2041953E7| 227133.0|        187574.286|    816436.0|    1013.0|           1480.571|             156322.008|              682.255|                        563.43|                2452.385|                 3.043|                          4.447|             1.41|     16232.0|                  48.757|      65791.0|                  197.621|                 null|                             null|               61001.0|                           183.233| 906121.0|7.07388204E8|                2124.831|                 2.722|         1349519.0|                          4.054|        0.139|           7.2|tests performed|      5.04838784E8|      2.4275856E8|           2.03816095E8|   6.7059029E7|        337584.0|                1195424.0|                        152.06|                        73.12|                              61.39|                      20.2|                               3601.0|                      313687.0|                                     0.094|            null|3.32915074E8|            35.608|      38.3|       15.413|        9.732|     54225.446|            1.2|              151.089|              10.79|          19.1|        24.6|                  null|                      2.77|          78.86|                  0.926|                                null|                       null|            null|                                   null|\n",
            "|     USA|North America|United States|2021-12-23| 5.181482E7| 261339.0|        182682.429|    815423.0|    3354.0|             1584.0|             155639.753|              785.002|                       548.736|                2449.342|                10.075|                          4.758|              1.4|     16156.0|                  48.529|      65582.0|                  196.993|                 null|                             null|               59659.0|                           179.202|1440856.0|7.06482083E8|                2122.109|                 4.328|         1495974.0|                          4.494|       0.1221|           8.2|tests performed|        5.045012E8|     2.42662144E8|           2.03766181E8|    6.686633E7|       1291784.0|                1402127.0|                        151.95|                        73.09|                              61.37|                     20.14|                               4223.0|                      360860.0|                                     0.109|            null|3.32915074E8|            35.608|      38.3|       15.413|        9.732|     54225.446|            1.2|              151.089|              10.79|          19.1|        24.6|                  null|                      2.77|          78.86|                  0.926|                                null|                       null|            null|                                   null|\n",
            "|     USA|North America|United States|2021-12-22|5.1553481E7| 241051.0|        165589.143|    812069.0|    2024.0|           1268.571|             154854.751|              724.062|                       497.392|                2439.268|                  6.08|                           3.81|             1.37|     16258.0|                  48.835|      65044.0|                  195.377|                 null|                             null|               58176.0|                           174.747|1695586.0|7.05041227E8|                2117.781|                 5.093|         1580194.0|                          4.747|       0.1048|           9.5|tests performed|      5.03209416E8|     2.42314253E8|           2.03610577E8|    6.607511E7|       1650392.0|                1441710.0|                        151.57|                        72.98|                              61.33|                      19.9|                               4342.0|                      366341.0|                                      0.11|            null|3.32915074E8|            35.608|      38.3|       15.413|        9.732|     54225.446|            1.2|              151.089|              10.79|          19.1|        24.6|                  null|                      2.77|          78.86|                  0.926|                                null|                       null|            null|                                   null|\n",
            "|     USA|North America|United States|2021-12-21| 5.131243E7| 178450.0|        151735.429|    810045.0|    1844.0|           1290.429|              154130.69|              536.023|                       455.778|                2433.188|                 5.539|                          3.876|             1.33|     16150.0|                  48.511|      64091.0|                  192.515|                 null|                             null|               57106.0|                           171.533|1694025.0|7.03345641E8|                2112.688|                 5.088|         1633032.0|                          4.905|       0.0929|          10.8|tests performed|      5.01559024E8|     2.41892259E8|           2.03400364E8|   6.5053878E7|       1765917.0|                1434756.0|                        151.07|                        72.86|                              61.26|                     19.59|                               4321.0|                      359915.0|                                     0.108|            null|3.32915074E8|            35.608|      38.3|       15.413|        9.732|     54225.446|            1.2|              151.089|              10.79|          19.1|        24.6|                  null|                      2.77|          78.86|                  0.926|                                null|                       null|            null|                                   null|\n",
            "|     USA|North America|United States|2021-12-20| 5.113398E7| 241959.0|        142822.286|    808201.0|    1452.0|           1229.857|             153594.667|              726.789|                       429.005|                2427.649|                 4.361|                          3.694|             1.29|     16210.0|                  48.691|      63764.0|                  191.532|                 null|                             null|               56371.0|                           169.325|1340346.0|7.01651616E8|                2107.599|                 4.026|         1664947.0|                          5.001|       0.0858|          11.7|tests performed|      4.99793107E8|     2.41443819E8|           2.03184558E8|   6.3949584E7|       1681439.0|                1411845.0|                        150.54|                        72.72|                               61.2|                     19.26|                               4252.0|                      347953.0|                                     0.105|            null|3.32915074E8|            35.608|      38.3|       15.413|        9.732|     54225.446|            1.2|              151.089|              10.79|          19.1|        24.6|                  null|                      2.77|          78.86|                  0.926|                                null|                       null|            null|                                   null|\n",
            "|     USA|North America|United States|2021-12-19|5.0892021E7|  86727.0|          135009.0|    806749.0|     166.0|           1207.143|             152867.878|              260.508|                       405.536|                2423.288|                 0.499|                          3.626|             1.27|     15983.0|                  48.009|      62700.0|                  188.336|                 null|                             null|               55800.0|                            167.61| 959579.0| 7.0031127E8|                2103.573|                 2.882|         1661155.0|                           4.99|       0.0813|          12.3|tests performed|      4.98111668E8|     2.41012606E8|           2.02979278E8|   6.2901409E7|        601367.0|                1389060.0|                        150.03|                        72.59|                              61.14|                     18.95|                               4184.0|                      335904.0|                                     0.101|            null|3.32915074E8|            35.608|      38.3|       15.413|        9.732|     54225.446|            1.2|              151.089|              10.79|          19.1|        24.6|                  null|                      2.77|          78.86|                  0.926|                                null|                       null|            null|                                   null|\n",
            "|     USA|North America|United States|2021-12-18|5.0805294E7|  76361.0|        129841.857|    806583.0|     511.0|           1217.143|              152607.37|              229.371|                       390.015|                2422.789|                 1.535|                          3.656|             1.25|     15906.0|                  47.778|      62004.0|                  186.246|                 null|                             null|               55741.0|                           167.433|1410120.0|6.99351691E8|                2100.691|                 4.236|         1637016.0|                          4.917|       0.0793|          12.6|tests performed|      4.97510301E8|     2.40844362E8|           2.02902548E8|   6.2544061E7|       1039484.0|                1388016.0|                        149.85|                        72.54|                              61.11|                     18.84|                               4181.0|                      333444.0|                                       0.1|            null|3.32915074E8|            35.608|      38.3|       15.413|        9.732|     54225.446|            1.2|              151.089|              10.79|          19.1|        24.6|                  null|                      2.77|          78.86|                  0.926|                                null|                       null|            null|                                   null|\n",
            "|     USA|North America|United States|2021-12-17|5.0728933E7| 192890.0|        126756.143|    806072.0|    1737.0|           1215.143|               152378.0|              579.397|                       380.746|                2421.254|                 5.218|                           3.65|             1.23|     15941.0|                  47.883|      63090.0|                  189.508|                 null|                             null|               55751.0|                           167.463|1931306.0|6.97941571E8|                2096.455|                 5.801|         1618720.0|                          4.862|       0.0783|          12.8|tests performed|      4.96470817E8|     2.40562753E8|           2.02751432E8|   6.1935474E7|       1784505.0|                1407819.0|                        149.54|                        72.46|                              61.07|                     18.65|                               4240.0|                      330822.0|                                       0.1|            null|3.32915074E8|            35.608|      38.3|       15.413|        9.732|     54225.446|            1.2|              151.089|              10.79|          19.1|        24.6|                  null|                      2.77|          78.86|                  0.926|                                null|                       null|            null|                                   null|\n",
            "|     USA|North America|United States|2021-12-16|5.0536043E7| 141686.0|        123590.714|    804335.0|    1146.0|           1220.143|             151798.603|              425.592|                       371.238|                2416.037|                 3.442|                          3.665|             1.18|     15909.0|                  47.787|      63104.0|                   189.55|                 null|                             null|               55785.0|                           167.565|2030394.0|6.96010265E8|                2090.654|                 6.099|         1602245.0|                          4.813|       0.0771|          13.0|tests performed|      4.94686312E8|     2.40136124E8|           2.02517586E8|   6.0807219E7|       1568869.0|                1435722.0|                         149.0|                        72.33|                               61.0|                     18.31|                               4324.0|                      330403.0|                                       0.1|            null|3.32915074E8|            35.608|      38.3|       15.413|        9.732|     54225.446|            1.2|              151.089|              10.79|          19.1|        24.6|                  null|                      2.77|          78.86|                  0.926|                                null|                       null|            null|                                   null|\n",
            "|     USA|North America|United States|2021-12-15|5.0394357E7| 144075.0|        120810.571|    803189.0|    2177.0|           1263.143|             151373.011|              432.768|                       362.887|                2412.594|                 6.539|                          3.794|             1.14|     15896.0|                  47.748|      63229.0|                  189.925|                 null|                             null|               55966.0|                           168.109|2065455.0|6.93979871E8|                2084.555|                 6.204|         1579313.0|                          4.744|       0.0765|          13.1|tests performed|      4.93117443E8|     2.39749864E8|           2.02360935E8|    5.977279E7|       1601708.0|                1470764.0|                        148.53|                        72.21|                              60.95|                      18.0|                               4430.0|                      333227.0|                                       0.1|            null|3.32915074E8|            35.608|      38.3|       15.413|        9.732|     54225.446|            1.2|              151.089|              10.79|          19.1|        24.6|                  null|                      2.77|          78.86|                  0.926|                                null|                       null|            null|                                   null|\n",
            "|     USA|North America|United States|2021-12-14|5.0250282E7| 116058.0|        121782.286|    801012.0|    1420.0|           1201.571|             150940.242|              348.611|                       365.806|                2406.055|                 4.265|                          3.609|             1.11|     15993.0|                  48.039|      63244.0|                   189.97|                 null|                             null|               56098.0|                           168.505|1917431.0|6.91914416E8|                2078.351|                  5.76|         1570608.0|                          4.718|       0.0775|          12.9|tests performed|      4.91515735E8|     2.39372853E8|           2.02118116E8|   5.8782458E7|       1605540.0|                1502167.0|                        148.04|                         72.1|                              60.88|                     17.71|                               4524.0|                      337951.0|                                     0.102|            null|3.32915074E8|            35.608|      38.3|       15.413|        9.732|     54225.446|            1.2|              151.089|              10.79|          19.1|        24.6|                  null|                      2.77|          78.86|                  0.926|                                null|                       null|            null|                                   null|\n",
            "|     USA|North America|United States|2021-12-13|5.0134224E7| 187266.0|        121388.429|    799592.0|    1293.0|             1233.0|             150591.631|              562.504|                       364.623|                 2401.79|                 3.884|                          3.704|             1.09|     15915.0|                  47.805|      63089.0|                  189.505|                 null|                             null|               56357.0|                           169.283|1313799.0|6.89996985E8|                2072.592|                 3.946|         1568132.0|                           4.71|       0.0774|          12.9|tests performed|      4.89910195E8|     2.39008151E8|           2.01852122E8|   5.7800008E7|       1521947.0|                1532059.0|                        147.56|                        71.99|                               60.8|                     17.41|                               4615.0|                      343929.0|                                     0.104|           47.69|3.32915074E8|            35.608|      38.3|       15.413|        9.732|     54225.446|            1.2|              151.089|              10.79|          19.1|        24.6|                  null|                      2.77|          78.86|                  0.926|                                null|                       null|            null|                                   null|\n",
            "|     USA|North America|United States|2021-12-12|4.9946958E7|  50557.0|        120319.286|    798299.0|     236.0|           1231.857|             150029.127|              151.862|                       361.411|                2397.906|                 0.709|                            3.7|              1.1|     15596.0|                  46.847|      61727.0|                  185.414|                 null|                             null|               56479.0|                            169.65| 790604.0|6.88683186E8|                2068.645|                 2.375|         1558990.0|                          4.683|       0.0772|          13.0|tests performed|      4.88388248E8|     2.38661281E8|           2.01590582E8|   5.6879923E7|        594061.0|                1562898.0|                         147.1|                        71.88|                              60.72|                     17.13|                               4707.0|                      350561.0|                                     0.106|           47.69|3.32915074E8|            35.608|      38.3|       15.413|        9.732|     54225.446|            1.2|              151.089|              10.79|          19.1|        24.6|                  null|                      2.77|          78.86|                  0.926|                                null|                       null|            null|                                   null|\n",
            "|     USA|North America|United States|2021-12-11|4.9896401E7|  54761.0|          120211.0|    798063.0|     497.0|           1237.143|             149877.266|              164.489|                       361.086|                2397.197|                 1.493|                          3.716|             1.12|     15327.0|                  46.039|      60925.0|                  183.005|                 null|                             null|               56030.0|                           168.301|1282052.0|6.87892582E8|                 2066.27|                 3.851|         1560857.0|                          4.688|        0.077|          13.0|tests performed|      4.87794187E8|     2.38510255E8|            2.0146946E8|   5.6555424E7|       1178103.0|                1576826.0|                        146.92|                        71.84|                              60.68|                     17.03|                               4749.0|                      352584.0|                                     0.106|           47.69|3.32915074E8|            35.608|      38.3|       15.413|        9.732|     54225.446|            1.2|              151.089|              10.79|          19.1|        24.6|                  null|                      2.77|          78.86|                  0.926|                                null|                       null|            null|                                   null|\n",
            "|     USA|North America|United States|2021-12-10| 4.984164E7| 170732.0|        121476.571|    797566.0|    1772.0|           1256.429|             149712.776|              512.839|                       364.888|                2395.704|                 5.323|                          3.774|             1.13|     15236.0|                  45.765|      61162.0|                  183.717|                 null|                             null|               55593.0|                           166.989|1815978.0| 6.8661053E8|                2062.419|                 5.455|         1570314.0|                          4.717|       0.0774|          12.9|tests performed|      4.86616084E8|     2.38246999E8|           2.01157488E8|   5.5951445E7|       1979829.0|                1609010.0|                        146.57|                        71.76|                              60.59|                     16.85|                               4846.0|                      357799.0|                                     0.108|           47.69|3.32915074E8|            35.608|      38.3|       15.413|        9.732|     54225.446|            1.2|              151.089|              10.79|          19.1|        24.6|                  null|                      2.77|          78.86|                  0.926|                                null|                       null|            null|                                   null|\n",
            "+--------+-------------+-------------+----------+-----------+---------+------------------+------------+----------+-------------------+-----------------------+---------------------+------------------------------+------------------------+----------------------+-------------------------------+-----------------+------------+------------------------+-------------+-------------------------+---------------------+---------------------------------+----------------------+----------------------------------+---------+------------+------------------------+----------------------+------------------+-------------------------------+-------------+--------------+---------------+------------------+-----------------+-----------------------+--------------+----------------+-------------------------+------------------------------+-----------------------------+-----------------------------------+--------------------------+-------------------------------------+------------------------------+------------------------------------------+----------------+------------+------------------+----------+-------------+-------------+--------------+---------------+---------------------+-------------------+--------------+------------+----------------------+--------------------------+---------------+-----------------------+------------------------------------+---------------------------+----------------+---------------------------------------+\n",
            "only showing top 20 rows\n",
            "\n"
          ]
        }
      ]
    },
    {
      "cell_type": "code",
      "metadata": {
        "colab": {
          "base_uri": "https://localhost:8080/"
        },
        "id": "XzGaFJ3QEG19",
        "outputId": "ee645d79-e983-4c85-f340-23ce0d2879e1"
      },
      "source": [
        "#Simple Group by Function\n",
        "df.groupBy(\"location\").sum(\"new_cases\").orderBy(F.desc(\"sum(new_cases)\")).show( truncate=False)"
      ],
      "execution_count": null,
      "outputs": [
        {
          "output_type": "stream",
          "name": "stdout",
          "text": [
            "+-----------------------------+--------------+\n",
            "|location                     |sum(new_cases)|\n",
            "+-----------------------------+--------------+\n",
            "|World                        |775935057     |\n",
            "|High-income countries        |429044052     |\n",
            "|Asia                         |301564180     |\n",
            "|Europe                       |252916868     |\n",
            "|Upper-middle-income countries|251756125     |\n",
            "|European Union (27)          |185822587     |\n",
            "|North America                |124492698     |\n",
            "|United States                |103436829     |\n",
            "|China                        |99373219      |\n",
            "|Lower-middle-income countries|92019711      |\n",
            "|South America                |68811012      |\n",
            "|India                        |45041748      |\n",
            "|France                       |38997490      |\n",
            "|Germany                      |38437756      |\n",
            "|Brazil                       |37511921      |\n",
            "|South Korea                  |34571873      |\n",
            "|Japan                        |33803572      |\n",
            "|Italy                        |26781078      |\n",
            "|United Kingdom               |24974629      |\n",
            "|Russia                       |24268728      |\n",
            "+-----------------------------+--------------+\n",
            "only showing top 20 rows\n",
            "\n"
          ]
        }
      ]
    },
    {
      "cell_type": "markdown",
      "metadata": {
        "id": "Lt6e41cFEFSR"
      },
      "source": [
        "# 4. Spark SQL\n",
        "\n",
        "What I really like about the SQL module is that it's very approachable to interact with your data while still using Spark. There is less to learn since it's basically the same SQL syntax you might already be comfortable with."
      ]
    },
    {
      "cell_type": "code",
      "metadata": {
        "id": "oBpoPIGDrb-c"
      },
      "source": [
        "#Creating a table from the dataframe\n",
        "df.createOrReplaceTempView(\"covid_data\") #temporary view\n",
        "# df.saveAsTable(\"covid_data\") #Save as a table\n",
        "# df.write.mode(\"overwrite\").saveAsTable(\"covid_data\") #Save as table and overwrite table if exits"
      ],
      "execution_count": null,
      "outputs": []
    },
    {
      "cell_type": "code",
      "metadata": {
        "colab": {
          "base_uri": "https://localhost:8080/"
        },
        "id": "GFcoi5l7kyLq",
        "outputId": "4a472f30-3173-403b-8608-8fe0f9a5b20b"
      },
      "source": [
        "\n",
        "df2 = spark.sql(\"SELECT distinct(location) from covid_data\")\n",
        "df2.printSchema()\n",
        "df2.show()"
      ],
      "execution_count": null,
      "outputs": [
        {
          "output_type": "stream",
          "name": "stdout",
          "text": [
            "root\n",
            " |-- location: string (nullable = true)\n",
            "\n",
            "+--------------------+\n",
            "|            location|\n",
            "+--------------------+\n",
            "|                Chad|\n",
            "|            Anguilla|\n",
            "|            Kiribati|\n",
            "|              Guyana|\n",
            "|             Eritrea|\n",
            "|              Jersey|\n",
            "|            Djibouti|\n",
            "|                Fiji|\n",
            "|                Iraq|\n",
            "|              Europe|\n",
            "|             Germany|\n",
            "|             Comoros|\n",
            "|         Afghanistan|\n",
            "|            Cambodia|\n",
            "|High-income count...|\n",
            "|              Jordan|\n",
            "|              France|\n",
            "|              Greece|\n",
            "|              Kosovo|\n",
            "|              Africa|\n",
            "+--------------------+\n",
            "only showing top 20 rows\n",
            "\n"
          ]
        }
      ]
    },
    {
      "cell_type": "code",
      "metadata": {
        "colab": {
          "base_uri": "https://localhost:8080/"
        },
        "id": "teHD2Up4k4Cd",
        "outputId": "7044f7ad-ea7f-4d3d-ca1d-9ba2b548a316"
      },
      "source": [
        "groupDF = spark.sql(\"SELECT location, count(*) from covid_data group by location\")\n",
        "groupDF.show()"
      ],
      "execution_count": null,
      "outputs": [
        {
          "output_type": "stream",
          "name": "stdout",
          "text": [
            "+--------------------+--------+\n",
            "|            location|count(1)|\n",
            "+--------------------+--------+\n",
            "|                Chad|    1674|\n",
            "|            Anguilla|    1674|\n",
            "|            Kiribati|    1674|\n",
            "|              Guyana|    1674|\n",
            "|             Eritrea|    1674|\n",
            "|              Jersey|    1674|\n",
            "|            Djibouti|    1674|\n",
            "|                Fiji|    1674|\n",
            "|                Iraq|    1674|\n",
            "|              Europe|    1684|\n",
            "|             Germany|    1674|\n",
            "|             Comoros|    1674|\n",
            "|         Afghanistan|    1674|\n",
            "|            Cambodia|    1674|\n",
            "|High-income count...|    3026|\n",
            "|              Jordan|    1674|\n",
            "|              France|    1674|\n",
            "|              Greece|    1674|\n",
            "|              Kosovo|    1674|\n",
            "|              Africa|    1674|\n",
            "+--------------------+--------+\n",
            "only showing top 20 rows\n",
            "\n"
          ]
        }
      ]
    },
    {
      "cell_type": "markdown",
      "metadata": {
        "id": "oTvI4jbZjX31"
      },
      "source": [
        "# 5. Example with Another Data Set\n",
        "This data set comes with your Google Colab Session"
      ]
    },
    {
      "cell_type": "code",
      "metadata": {
        "id": "-To1oW2S4mZL"
      },
      "source": [
        "df = spark.read.csv(\"/content/sample_data/california_housing_train.csv\", header=True, inferSchema=True)"
      ],
      "execution_count": null,
      "outputs": []
    },
    {
      "cell_type": "code",
      "metadata": {
        "colab": {
          "base_uri": "https://localhost:8080/"
        },
        "id": "AvDrXp8w4pFi",
        "outputId": "fe3adc59-4e1a-4265-81b7-a727f2733953"
      },
      "source": [
        "df.printSchema()"
      ],
      "execution_count": null,
      "outputs": [
        {
          "output_type": "stream",
          "name": "stdout",
          "text": [
            "root\n",
            " |-- longitude: double (nullable = true)\n",
            " |-- latitude: double (nullable = true)\n",
            " |-- housing_median_age: double (nullable = true)\n",
            " |-- total_rooms: double (nullable = true)\n",
            " |-- total_bedrooms: double (nullable = true)\n",
            " |-- population: double (nullable = true)\n",
            " |-- households: double (nullable = true)\n",
            " |-- median_income: double (nullable = true)\n",
            " |-- median_house_value: double (nullable = true)\n",
            "\n"
          ]
        }
      ]
    },
    {
      "cell_type": "code",
      "metadata": {
        "colab": {
          "base_uri": "https://localhost:8080/"
        },
        "id": "8-ra4P9Z7sut",
        "outputId": "5d151688-833c-411f-d7c7-f690fa6114dc"
      },
      "source": [
        "#print N rows\n",
        "df.show(5)"
      ],
      "execution_count": null,
      "outputs": [
        {
          "output_type": "stream",
          "name": "stdout",
          "text": [
            "+---------+--------+------------------+-----------+--------------+----------+----------+-------------+------------------+\n",
            "|longitude|latitude|housing_median_age|total_rooms|total_bedrooms|population|households|median_income|median_house_value|\n",
            "+---------+--------+------------------+-----------+--------------+----------+----------+-------------+------------------+\n",
            "|  -114.31|   34.19|              15.0|     5612.0|        1283.0|    1015.0|     472.0|       1.4936|           66900.0|\n",
            "|  -114.47|    34.4|              19.0|     7650.0|        1901.0|    1129.0|     463.0|         1.82|           80100.0|\n",
            "|  -114.56|   33.69|              17.0|      720.0|         174.0|     333.0|     117.0|       1.6509|           85700.0|\n",
            "|  -114.57|   33.64|              14.0|     1501.0|         337.0|     515.0|     226.0|       3.1917|           73400.0|\n",
            "|  -114.57|   33.57|              20.0|     1454.0|         326.0|     624.0|     262.0|        1.925|           65500.0|\n",
            "+---------+--------+------------------+-----------+--------------+----------+----------+-------------+------------------+\n",
            "only showing top 5 rows\n",
            "\n"
          ]
        }
      ]
    },
    {
      "cell_type": "code",
      "metadata": {
        "colab": {
          "base_uri": "https://localhost:8080/"
        },
        "id": "VKzuJaaw79Kf",
        "outputId": "0c191aa3-e11d-4e0b-86bc-3761dcf59c45"
      },
      "source": [
        "df.count()"
      ],
      "execution_count": null,
      "outputs": [
        {
          "output_type": "execute_result",
          "data": {
            "text/plain": [
              "17000"
            ]
          },
          "metadata": {},
          "execution_count": 58
        }
      ]
    },
    {
      "cell_type": "code",
      "metadata": {
        "colab": {
          "base_uri": "https://localhost:8080/"
        },
        "id": "Yvjbab-J7_t_",
        "outputId": "a8b2e4e5-b074-4afa-d0c0-b4f99141ec9e"
      },
      "source": [
        "df.select(\"housing_median_age\",\"total_rooms\").show(5)"
      ],
      "execution_count": null,
      "outputs": [
        {
          "output_type": "stream",
          "name": "stdout",
          "text": [
            "+------------------+-----------+\n",
            "|housing_median_age|total_rooms|\n",
            "+------------------+-----------+\n",
            "|              15.0|     5612.0|\n",
            "|              19.0|     7650.0|\n",
            "|              17.0|      720.0|\n",
            "|              14.0|     1501.0|\n",
            "|              20.0|     1454.0|\n",
            "+------------------+-----------+\n",
            "only showing top 5 rows\n",
            "\n"
          ]
        }
      ]
    },
    {
      "cell_type": "code",
      "metadata": {
        "colab": {
          "base_uri": "https://localhost:8080/"
        },
        "id": "rAzEcJp78NIH",
        "outputId": "86223562-e272-45d5-d936-02c642329376"
      },
      "source": [
        "df.describe().show()"
      ],
      "execution_count": null,
      "outputs": [
        {
          "output_type": "stream",
          "name": "stdout",
          "text": [
            "+-------+-------------------+------------------+------------------+-----------------+-----------------+------------------+-----------------+------------------+------------------+\n",
            "|summary|          longitude|          latitude|housing_median_age|      total_rooms|   total_bedrooms|        population|       households|     median_income|median_house_value|\n",
            "+-------+-------------------+------------------+------------------+-----------------+-----------------+------------------+-----------------+------------------+------------------+\n",
            "|  count|              17000|             17000|             17000|            17000|            17000|             17000|            17000|             17000|             17000|\n",
            "|   mean|-119.56210823529375|  35.6252247058827| 28.58935294117647|2643.664411764706|539.4108235294118|1429.5739411764705|501.2219411764706| 3.883578100000021|207300.91235294117|\n",
            "| stddev| 2.0051664084260357|2.1373397946570867|12.586936981660406|2179.947071452777|421.4994515798648| 1147.852959159527|384.5208408559016|1.9081565183791036|115983.76438720895|\n",
            "|    min|            -124.35|             32.54|               1.0|              2.0|              1.0|               3.0|              1.0|            0.4999|           14999.0|\n",
            "|    max|            -114.31|             41.95|              52.0|          37937.0|           6445.0|           35682.0|           6082.0|           15.0001|          500001.0|\n",
            "+-------+-------------------+------------------+------------------+-----------------+-----------------+------------------+-----------------+------------------+------------------+\n",
            "\n"
          ]
        }
      ]
    },
    {
      "cell_type": "code",
      "metadata": {
        "colab": {
          "base_uri": "https://localhost:8080/"
        },
        "id": "Yl85UrLC8PYW",
        "outputId": "2efc8e27-6c66-4cad-c40c-14760a69f58b"
      },
      "source": [
        "df.select('total_rooms').distinct().show()"
      ],
      "execution_count": null,
      "outputs": [
        {
          "output_type": "stream",
          "name": "stdout",
          "text": [
            "+-----------+\n",
            "|total_rooms|\n",
            "+-----------+\n",
            "|      934.0|\n",
            "|     3980.0|\n",
            "|     4142.0|\n",
            "|      596.0|\n",
            "|     1761.0|\n",
            "|     5983.0|\n",
            "|     2815.0|\n",
            "|     6433.0|\n",
            "|      299.0|\n",
            "|     2734.0|\n",
            "|      769.0|\n",
            "|     1051.0|\n",
            "|     7554.0|\n",
            "|     4066.0|\n",
            "|     2862.0|\n",
            "|     3597.0|\n",
            "|      692.0|\n",
            "|      720.0|\n",
            "|     1765.0|\n",
            "|     2523.0|\n",
            "+-----------+\n",
            "only showing top 20 rows\n",
            "\n"
          ]
        }
      ]
    },
    {
      "cell_type": "code",
      "source": [
        "df.createOrReplaceGlobalTempView(\"housing_data\")"
      ],
      "metadata": {
        "id": "uMABvglL6dXa"
      },
      "execution_count": null,
      "outputs": []
    },
    {
      "cell_type": "code",
      "source": [
        "# prompt: select distinct total rooms from housing _data using sql\n",
        "\n",
        "spark.sql(\"SELECT DISTINCT total_rooms FROM global_temp.housing_data\").show()\n"
      ],
      "metadata": {
        "colab": {
          "base_uri": "https://localhost:8080/"
        },
        "id": "Ce2d40_p8vJM",
        "outputId": "69f303fe-3fd3-47e4-ce67-1326fee41e3a"
      },
      "execution_count": null,
      "outputs": [
        {
          "output_type": "stream",
          "name": "stdout",
          "text": [
            "+-----------+\n",
            "|total_rooms|\n",
            "+-----------+\n",
            "|      934.0|\n",
            "|     3980.0|\n",
            "|     4142.0|\n",
            "|      596.0|\n",
            "|     1761.0|\n",
            "|     5983.0|\n",
            "|     2815.0|\n",
            "|     6433.0|\n",
            "|      299.0|\n",
            "|     2734.0|\n",
            "|      769.0|\n",
            "|     1051.0|\n",
            "|     7554.0|\n",
            "|     4066.0|\n",
            "|     2862.0|\n",
            "|     3597.0|\n",
            "|      692.0|\n",
            "|      720.0|\n",
            "|     1765.0|\n",
            "|     2523.0|\n",
            "+-----------+\n",
            "only showing top 20 rows\n",
            "\n"
          ]
        }
      ]
    },
    {
      "cell_type": "code",
      "metadata": {
        "id": "X5tOUkPJ8XRb",
        "colab": {
          "base_uri": "https://localhost:8080/",
          "height": 419
        },
        "outputId": "b7c54cd4-fd06-4051-ae93-bc14c6861a34"
      },
      "source": [
        "from pyspark.sql import functions as F\n",
        "test = df.groupBy('total_rooms').agg(F.sum('housing_median_age'))\n",
        "test.toPandas()"
      ],
      "execution_count": null,
      "outputs": [
        {
          "output_type": "execute_result",
          "data": {
            "text/plain": [
              "      total_rooms  sum(housing_median_age)\n",
              "0           934.0                    135.0\n",
              "1          3980.0                     25.0\n",
              "2          4142.0                     37.0\n",
              "3           596.0                     25.0\n",
              "4          1761.0                    154.0\n",
              "...           ...                      ...\n",
              "5528       3620.0                     18.0\n",
              "5529        947.0                     62.0\n",
              "5530        710.0                     52.0\n",
              "5531         91.0                     43.0\n",
              "5532       5457.0                     21.0\n",
              "\n",
              "[5533 rows x 2 columns]"
            ],
            "text/html": [
              "\n",
              "  <div id=\"df-4708e31d-1b76-402f-913f-14dd3ddf8e6f\" class=\"colab-df-container\">\n",
              "    <div>\n",
              "<style scoped>\n",
              "    .dataframe tbody tr th:only-of-type {\n",
              "        vertical-align: middle;\n",
              "    }\n",
              "\n",
              "    .dataframe tbody tr th {\n",
              "        vertical-align: top;\n",
              "    }\n",
              "\n",
              "    .dataframe thead th {\n",
              "        text-align: right;\n",
              "    }\n",
              "</style>\n",
              "<table border=\"1\" class=\"dataframe\">\n",
              "  <thead>\n",
              "    <tr style=\"text-align: right;\">\n",
              "      <th></th>\n",
              "      <th>total_rooms</th>\n",
              "      <th>sum(housing_median_age)</th>\n",
              "    </tr>\n",
              "  </thead>\n",
              "  <tbody>\n",
              "    <tr>\n",
              "      <th>0</th>\n",
              "      <td>934.0</td>\n",
              "      <td>135.0</td>\n",
              "    </tr>\n",
              "    <tr>\n",
              "      <th>1</th>\n",
              "      <td>3980.0</td>\n",
              "      <td>25.0</td>\n",
              "    </tr>\n",
              "    <tr>\n",
              "      <th>2</th>\n",
              "      <td>4142.0</td>\n",
              "      <td>37.0</td>\n",
              "    </tr>\n",
              "    <tr>\n",
              "      <th>3</th>\n",
              "      <td>596.0</td>\n",
              "      <td>25.0</td>\n",
              "    </tr>\n",
              "    <tr>\n",
              "      <th>4</th>\n",
              "      <td>1761.0</td>\n",
              "      <td>154.0</td>\n",
              "    </tr>\n",
              "    <tr>\n",
              "      <th>...</th>\n",
              "      <td>...</td>\n",
              "      <td>...</td>\n",
              "    </tr>\n",
              "    <tr>\n",
              "      <th>5528</th>\n",
              "      <td>3620.0</td>\n",
              "      <td>18.0</td>\n",
              "    </tr>\n",
              "    <tr>\n",
              "      <th>5529</th>\n",
              "      <td>947.0</td>\n",
              "      <td>62.0</td>\n",
              "    </tr>\n",
              "    <tr>\n",
              "      <th>5530</th>\n",
              "      <td>710.0</td>\n",
              "      <td>52.0</td>\n",
              "    </tr>\n",
              "    <tr>\n",
              "      <th>5531</th>\n",
              "      <td>91.0</td>\n",
              "      <td>43.0</td>\n",
              "    </tr>\n",
              "    <tr>\n",
              "      <th>5532</th>\n",
              "      <td>5457.0</td>\n",
              "      <td>21.0</td>\n",
              "    </tr>\n",
              "  </tbody>\n",
              "</table>\n",
              "<p>5533 rows × 2 columns</p>\n",
              "</div>\n",
              "    <div class=\"colab-df-buttons\">\n",
              "\n",
              "  <div class=\"colab-df-container\">\n",
              "    <button class=\"colab-df-convert\" onclick=\"convertToInteractive('df-4708e31d-1b76-402f-913f-14dd3ddf8e6f')\"\n",
              "            title=\"Convert this dataframe to an interactive table.\"\n",
              "            style=\"display:none;\">\n",
              "\n",
              "  <svg xmlns=\"http://www.w3.org/2000/svg\" height=\"24px\" viewBox=\"0 -960 960 960\">\n",
              "    <path d=\"M120-120v-720h720v720H120Zm60-500h600v-160H180v160Zm220 220h160v-160H400v160Zm0 220h160v-160H400v160ZM180-400h160v-160H180v160Zm440 0h160v-160H620v160ZM180-180h160v-160H180v160Zm440 0h160v-160H620v160Z\"/>\n",
              "  </svg>\n",
              "    </button>\n",
              "\n",
              "  <style>\n",
              "    .colab-df-container {\n",
              "      display:flex;\n",
              "      gap: 12px;\n",
              "    }\n",
              "\n",
              "    .colab-df-convert {\n",
              "      background-color: #E8F0FE;\n",
              "      border: none;\n",
              "      border-radius: 50%;\n",
              "      cursor: pointer;\n",
              "      display: none;\n",
              "      fill: #1967D2;\n",
              "      height: 32px;\n",
              "      padding: 0 0 0 0;\n",
              "      width: 32px;\n",
              "    }\n",
              "\n",
              "    .colab-df-convert:hover {\n",
              "      background-color: #E2EBFA;\n",
              "      box-shadow: 0px 1px 2px rgba(60, 64, 67, 0.3), 0px 1px 3px 1px rgba(60, 64, 67, 0.15);\n",
              "      fill: #174EA6;\n",
              "    }\n",
              "\n",
              "    .colab-df-buttons div {\n",
              "      margin-bottom: 4px;\n",
              "    }\n",
              "\n",
              "    [theme=dark] .colab-df-convert {\n",
              "      background-color: #3B4455;\n",
              "      fill: #D2E3FC;\n",
              "    }\n",
              "\n",
              "    [theme=dark] .colab-df-convert:hover {\n",
              "      background-color: #434B5C;\n",
              "      box-shadow: 0px 1px 3px 1px rgba(0, 0, 0, 0.15);\n",
              "      filter: drop-shadow(0px 1px 2px rgba(0, 0, 0, 0.3));\n",
              "      fill: #FFFFFF;\n",
              "    }\n",
              "  </style>\n",
              "\n",
              "    <script>\n",
              "      const buttonEl =\n",
              "        document.querySelector('#df-4708e31d-1b76-402f-913f-14dd3ddf8e6f button.colab-df-convert');\n",
              "      buttonEl.style.display =\n",
              "        google.colab.kernel.accessAllowed ? 'block' : 'none';\n",
              "\n",
              "      async function convertToInteractive(key) {\n",
              "        const element = document.querySelector('#df-4708e31d-1b76-402f-913f-14dd3ddf8e6f');\n",
              "        const dataTable =\n",
              "          await google.colab.kernel.invokeFunction('convertToInteractive',\n",
              "                                                    [key], {});\n",
              "        if (!dataTable) return;\n",
              "\n",
              "        const docLinkHtml = 'Like what you see? Visit the ' +\n",
              "          '<a target=\"_blank\" href=https://colab.research.google.com/notebooks/data_table.ipynb>data table notebook</a>'\n",
              "          + ' to learn more about interactive tables.';\n",
              "        element.innerHTML = '';\n",
              "        dataTable['output_type'] = 'display_data';\n",
              "        await google.colab.output.renderOutput(dataTable, element);\n",
              "        const docLink = document.createElement('div');\n",
              "        docLink.innerHTML = docLinkHtml;\n",
              "        element.appendChild(docLink);\n",
              "      }\n",
              "    </script>\n",
              "  </div>\n",
              "\n",
              "\n",
              "<div id=\"df-9fce8238-eb6f-4c36-b462-81e3b1c20dda\">\n",
              "  <button class=\"colab-df-quickchart\" onclick=\"quickchart('df-9fce8238-eb6f-4c36-b462-81e3b1c20dda')\"\n",
              "            title=\"Suggest charts\"\n",
              "            style=\"display:none;\">\n",
              "\n",
              "<svg xmlns=\"http://www.w3.org/2000/svg\" height=\"24px\"viewBox=\"0 0 24 24\"\n",
              "     width=\"24px\">\n",
              "    <g>\n",
              "        <path d=\"M19 3H5c-1.1 0-2 .9-2 2v14c0 1.1.9 2 2 2h14c1.1 0 2-.9 2-2V5c0-1.1-.9-2-2-2zM9 17H7v-7h2v7zm4 0h-2V7h2v10zm4 0h-2v-4h2v4z\"/>\n",
              "    </g>\n",
              "</svg>\n",
              "  </button>\n",
              "\n",
              "<style>\n",
              "  .colab-df-quickchart {\n",
              "      --bg-color: #E8F0FE;\n",
              "      --fill-color: #1967D2;\n",
              "      --hover-bg-color: #E2EBFA;\n",
              "      --hover-fill-color: #174EA6;\n",
              "      --disabled-fill-color: #AAA;\n",
              "      --disabled-bg-color: #DDD;\n",
              "  }\n",
              "\n",
              "  [theme=dark] .colab-df-quickchart {\n",
              "      --bg-color: #3B4455;\n",
              "      --fill-color: #D2E3FC;\n",
              "      --hover-bg-color: #434B5C;\n",
              "      --hover-fill-color: #FFFFFF;\n",
              "      --disabled-bg-color: #3B4455;\n",
              "      --disabled-fill-color: #666;\n",
              "  }\n",
              "\n",
              "  .colab-df-quickchart {\n",
              "    background-color: var(--bg-color);\n",
              "    border: none;\n",
              "    border-radius: 50%;\n",
              "    cursor: pointer;\n",
              "    display: none;\n",
              "    fill: var(--fill-color);\n",
              "    height: 32px;\n",
              "    padding: 0;\n",
              "    width: 32px;\n",
              "  }\n",
              "\n",
              "  .colab-df-quickchart:hover {\n",
              "    background-color: var(--hover-bg-color);\n",
              "    box-shadow: 0 1px 2px rgba(60, 64, 67, 0.3), 0 1px 3px 1px rgba(60, 64, 67, 0.15);\n",
              "    fill: var(--button-hover-fill-color);\n",
              "  }\n",
              "\n",
              "  .colab-df-quickchart-complete:disabled,\n",
              "  .colab-df-quickchart-complete:disabled:hover {\n",
              "    background-color: var(--disabled-bg-color);\n",
              "    fill: var(--disabled-fill-color);\n",
              "    box-shadow: none;\n",
              "  }\n",
              "\n",
              "  .colab-df-spinner {\n",
              "    border: 2px solid var(--fill-color);\n",
              "    border-color: transparent;\n",
              "    border-bottom-color: var(--fill-color);\n",
              "    animation:\n",
              "      spin 1s steps(1) infinite;\n",
              "  }\n",
              "\n",
              "  @keyframes spin {\n",
              "    0% {\n",
              "      border-color: transparent;\n",
              "      border-bottom-color: var(--fill-color);\n",
              "      border-left-color: var(--fill-color);\n",
              "    }\n",
              "    20% {\n",
              "      border-color: transparent;\n",
              "      border-left-color: var(--fill-color);\n",
              "      border-top-color: var(--fill-color);\n",
              "    }\n",
              "    30% {\n",
              "      border-color: transparent;\n",
              "      border-left-color: var(--fill-color);\n",
              "      border-top-color: var(--fill-color);\n",
              "      border-right-color: var(--fill-color);\n",
              "    }\n",
              "    40% {\n",
              "      border-color: transparent;\n",
              "      border-right-color: var(--fill-color);\n",
              "      border-top-color: var(--fill-color);\n",
              "    }\n",
              "    60% {\n",
              "      border-color: transparent;\n",
              "      border-right-color: var(--fill-color);\n",
              "    }\n",
              "    80% {\n",
              "      border-color: transparent;\n",
              "      border-right-color: var(--fill-color);\n",
              "      border-bottom-color: var(--fill-color);\n",
              "    }\n",
              "    90% {\n",
              "      border-color: transparent;\n",
              "      border-bottom-color: var(--fill-color);\n",
              "    }\n",
              "  }\n",
              "</style>\n",
              "\n",
              "  <script>\n",
              "    async function quickchart(key) {\n",
              "      const quickchartButtonEl =\n",
              "        document.querySelector('#' + key + ' button');\n",
              "      quickchartButtonEl.disabled = true;  // To prevent multiple clicks.\n",
              "      quickchartButtonEl.classList.add('colab-df-spinner');\n",
              "      try {\n",
              "        const charts = await google.colab.kernel.invokeFunction(\n",
              "            'suggestCharts', [key], {});\n",
              "      } catch (error) {\n",
              "        console.error('Error during call to suggestCharts:', error);\n",
              "      }\n",
              "      quickchartButtonEl.classList.remove('colab-df-spinner');\n",
              "      quickchartButtonEl.classList.add('colab-df-quickchart-complete');\n",
              "    }\n",
              "    (() => {\n",
              "      let quickchartButtonEl =\n",
              "        document.querySelector('#df-9fce8238-eb6f-4c36-b462-81e3b1c20dda button');\n",
              "      quickchartButtonEl.style.display =\n",
              "        google.colab.kernel.accessAllowed ? 'block' : 'none';\n",
              "    })();\n",
              "  </script>\n",
              "</div>\n",
              "\n",
              "    </div>\n",
              "  </div>\n"
            ],
            "application/vnd.google.colaboratory.intrinsic+json": {
              "type": "dataframe",
              "summary": "{\n  \"name\": \"test\",\n  \"rows\": 5533,\n  \"fields\": [\n    {\n      \"column\": \"total_rooms\",\n      \"properties\": {\n        \"dtype\": \"number\",\n        \"std\": 3256.9556196835583,\n        \"min\": 2.0,\n        \"max\": 37937.0,\n        \"num_unique_values\": 5533,\n        \"samples\": [\n          14414.0,\n          2884.0,\n          5623.0\n        ],\n        \"semantic_type\": \"\",\n        \"description\": \"\"\n      }\n    },\n    {\n      \"column\": \"sum(housing_median_age)\",\n      \"properties\": {\n        \"dtype\": \"number\",\n        \"std\": 81.92062654575412,\n        \"min\": 2.0,\n        \"max\": 539.0,\n        \"num_unique_values\": 373,\n        \"samples\": [\n          236.0,\n          66.0,\n          101.0\n        ],\n        \"semantic_type\": \"\",\n        \"description\": \"\"\n      }\n    }\n  ]\n}"
            }
          },
          "metadata": {},
          "execution_count": 69
        }
      ]
    },
    {
      "cell_type": "code",
      "source": [
        "spark.sql(\"select total_rooms, sum(housing_median_age)\\\n",
        "from global_temp.housing_data group by total_rooms limit 5 \").show()"
      ],
      "metadata": {
        "colab": {
          "base_uri": "https://localhost:8080/"
        },
        "id": "6dzkqR6a-HrQ",
        "outputId": "9e7cf6f8-9e46-44cd-aa90-af363245344a"
      },
      "execution_count": null,
      "outputs": [
        {
          "output_type": "stream",
          "name": "stdout",
          "text": [
            "+-----------+-----------------------+\n",
            "|total_rooms|sum(housing_median_age)|\n",
            "+-----------+-----------------------+\n",
            "|      934.0|                  135.0|\n",
            "|     3980.0|                   25.0|\n",
            "|     4142.0|                   37.0|\n",
            "|      596.0|                   25.0|\n",
            "|     1761.0|                  154.0|\n",
            "+-----------+-----------------------+\n",
            "\n"
          ]
        }
      ]
    },
    {
      "cell_type": "code",
      "metadata": {
        "colab": {
          "base_uri": "https://localhost:8080/"
        },
        "id": "TaUs3Q-F8lA3",
        "outputId": "5b8b7772-d0f5-4262-ccb0-5b7b92eb7703"
      },
      "source": [
        "#Counting and removing missing values\n",
        "\n",
        "df.select([F.count(F.when(F.isnull(c), c)).alias(c) for c in df.columns]).show()"
      ],
      "execution_count": null,
      "outputs": [
        {
          "output_type": "stream",
          "name": "stdout",
          "text": [
            "+---------+--------+------------------+-----------+--------------+----------+----------+-------------+------------------+\n",
            "|longitude|latitude|housing_median_age|total_rooms|total_bedrooms|population|households|median_income|median_house_value|\n",
            "+---------+--------+------------------+-----------+--------------+----------+----------+-------------+------------------+\n",
            "|        0|       0|                 0|          0|             0|         0|         0|            0|                 0|\n",
            "+---------+--------+------------------+-----------+--------------+----------+----------+-------------+------------------+\n",
            "\n"
          ]
        }
      ]
    },
    {
      "cell_type": "markdown",
      "metadata": {
        "id": "rE4zy4gdbLnE"
      },
      "source": [
        "# Creating a Test Spark DataFrame"
      ]
    },
    {
      "cell_type": "code",
      "metadata": {
        "id": "750m7yL29U4g",
        "colab": {
          "base_uri": "https://localhost:8080/",
          "height": 333
        },
        "outputId": "61300d22-123f-400f-e0d2-c4f539cd9979"
      },
      "source": [
        "data = [\n",
        "        ('John','Smith',1,None, None, None),\n",
        "        ('Jane','Smith',2,None, None, None),\n",
        "        ('Jonas','Smith',3,None, None, None),\n",
        "]\n",
        "\n",
        "columns = [\"firstname\",\"middlename\",\"lastname\",\"dob\",\"gender\",\"salary\"]\n",
        "df = spark.createDataFrame(data=data, schema = columns)"
      ],
      "execution_count": null,
      "outputs": [
        {
          "output_type": "error",
          "ename": "PySparkValueError",
          "evalue": "[CANNOT_DETERMINE_TYPE] Some of types cannot be determined after inferring.",
          "traceback": [
            "\u001b[0;31m---------------------------------------------------------------------------\u001b[0m",
            "\u001b[0;31mPySparkValueError\u001b[0m                         Traceback (most recent call last)",
            "\u001b[0;32m<ipython-input-81-7a370465abca>\u001b[0m in \u001b[0;36m<cell line: 0>\u001b[0;34m()\u001b[0m\n\u001b[1;32m      6\u001b[0m \u001b[0;34m\u001b[0m\u001b[0m\n\u001b[1;32m      7\u001b[0m \u001b[0mcolumns\u001b[0m \u001b[0;34m=\u001b[0m \u001b[0;34m[\u001b[0m\u001b[0;34m\"firstname\"\u001b[0m\u001b[0;34m,\u001b[0m\u001b[0;34m\"middlename\"\u001b[0m\u001b[0;34m,\u001b[0m\u001b[0;34m\"lastname\"\u001b[0m\u001b[0;34m,\u001b[0m\u001b[0;34m\"dob\"\u001b[0m\u001b[0;34m,\u001b[0m\u001b[0;34m\"gender\"\u001b[0m\u001b[0;34m,\u001b[0m\u001b[0;34m\"salary\"\u001b[0m\u001b[0;34m]\u001b[0m\u001b[0;34m\u001b[0m\u001b[0;34m\u001b[0m\u001b[0m\n\u001b[0;32m----> 8\u001b[0;31m \u001b[0mdf\u001b[0m \u001b[0;34m=\u001b[0m \u001b[0mspark\u001b[0m\u001b[0;34m.\u001b[0m\u001b[0mcreateDataFrame\u001b[0m\u001b[0;34m(\u001b[0m\u001b[0mdata\u001b[0m\u001b[0;34m=\u001b[0m\u001b[0mdata\u001b[0m\u001b[0;34m,\u001b[0m \u001b[0mschema\u001b[0m \u001b[0;34m=\u001b[0m \u001b[0mcolumns\u001b[0m\u001b[0;34m)\u001b[0m\u001b[0;34m\u001b[0m\u001b[0;34m\u001b[0m\u001b[0m\n\u001b[0m",
            "\u001b[0;32m/usr/local/lib/python3.11/dist-packages/pyspark/sql/session.py\u001b[0m in \u001b[0;36mcreateDataFrame\u001b[0;34m(self, data, schema, samplingRatio, verifySchema)\u001b[0m\n\u001b[1;32m   1441\u001b[0m                 \u001b[0mdata\u001b[0m\u001b[0;34m,\u001b[0m \u001b[0mschema\u001b[0m\u001b[0;34m,\u001b[0m \u001b[0msamplingRatio\u001b[0m\u001b[0;34m,\u001b[0m \u001b[0mverifySchema\u001b[0m\u001b[0;34m\u001b[0m\u001b[0;34m\u001b[0m\u001b[0m\n\u001b[1;32m   1442\u001b[0m             )\n\u001b[0;32m-> 1443\u001b[0;31m         return self._create_dataframe(\n\u001b[0m\u001b[1;32m   1444\u001b[0m             \u001b[0mdata\u001b[0m\u001b[0;34m,\u001b[0m \u001b[0mschema\u001b[0m\u001b[0;34m,\u001b[0m \u001b[0msamplingRatio\u001b[0m\u001b[0;34m,\u001b[0m \u001b[0mverifySchema\u001b[0m  \u001b[0;31m# type: ignore[arg-type]\u001b[0m\u001b[0;34m\u001b[0m\u001b[0;34m\u001b[0m\u001b[0m\n\u001b[1;32m   1445\u001b[0m         )\n",
            "\u001b[0;32m/usr/local/lib/python3.11/dist-packages/pyspark/sql/session.py\u001b[0m in \u001b[0;36m_create_dataframe\u001b[0;34m(self, data, schema, samplingRatio, verifySchema)\u001b[0m\n\u001b[1;32m   1483\u001b[0m             \u001b[0mrdd\u001b[0m\u001b[0;34m,\u001b[0m \u001b[0mstruct\u001b[0m \u001b[0;34m=\u001b[0m \u001b[0mself\u001b[0m\u001b[0;34m.\u001b[0m\u001b[0m_createFromRDD\u001b[0m\u001b[0;34m(\u001b[0m\u001b[0mdata\u001b[0m\u001b[0;34m.\u001b[0m\u001b[0mmap\u001b[0m\u001b[0;34m(\u001b[0m\u001b[0mprepare\u001b[0m\u001b[0;34m)\u001b[0m\u001b[0;34m,\u001b[0m \u001b[0mschema\u001b[0m\u001b[0;34m,\u001b[0m \u001b[0msamplingRatio\u001b[0m\u001b[0;34m)\u001b[0m\u001b[0;34m\u001b[0m\u001b[0;34m\u001b[0m\u001b[0m\n\u001b[1;32m   1484\u001b[0m         \u001b[0;32melse\u001b[0m\u001b[0;34m:\u001b[0m\u001b[0;34m\u001b[0m\u001b[0;34m\u001b[0m\u001b[0m\n\u001b[0;32m-> 1485\u001b[0;31m             \u001b[0mrdd\u001b[0m\u001b[0;34m,\u001b[0m \u001b[0mstruct\u001b[0m \u001b[0;34m=\u001b[0m \u001b[0mself\u001b[0m\u001b[0;34m.\u001b[0m\u001b[0m_createFromLocal\u001b[0m\u001b[0;34m(\u001b[0m\u001b[0mmap\u001b[0m\u001b[0;34m(\u001b[0m\u001b[0mprepare\u001b[0m\u001b[0;34m,\u001b[0m \u001b[0mdata\u001b[0m\u001b[0;34m)\u001b[0m\u001b[0;34m,\u001b[0m \u001b[0mschema\u001b[0m\u001b[0;34m)\u001b[0m\u001b[0;34m\u001b[0m\u001b[0;34m\u001b[0m\u001b[0m\n\u001b[0m\u001b[1;32m   1486\u001b[0m         \u001b[0;32massert\u001b[0m \u001b[0mself\u001b[0m\u001b[0;34m.\u001b[0m\u001b[0m_jvm\u001b[0m \u001b[0;32mis\u001b[0m \u001b[0;32mnot\u001b[0m \u001b[0;32mNone\u001b[0m\u001b[0;34m\u001b[0m\u001b[0;34m\u001b[0m\u001b[0m\n\u001b[1;32m   1487\u001b[0m         \u001b[0mjrdd\u001b[0m \u001b[0;34m=\u001b[0m \u001b[0mself\u001b[0m\u001b[0;34m.\u001b[0m\u001b[0m_jvm\u001b[0m\u001b[0;34m.\u001b[0m\u001b[0mSerDeUtil\u001b[0m\u001b[0;34m.\u001b[0m\u001b[0mtoJavaArray\u001b[0m\u001b[0;34m(\u001b[0m\u001b[0mrdd\u001b[0m\u001b[0;34m.\u001b[0m\u001b[0m_to_java_object_rdd\u001b[0m\u001b[0;34m(\u001b[0m\u001b[0;34m)\u001b[0m\u001b[0;34m)\u001b[0m\u001b[0;34m\u001b[0m\u001b[0;34m\u001b[0m\u001b[0m\n",
            "\u001b[0;32m/usr/local/lib/python3.11/dist-packages/pyspark/sql/session.py\u001b[0m in \u001b[0;36m_createFromLocal\u001b[0;34m(self, data, schema)\u001b[0m\n\u001b[1;32m   1091\u001b[0m \u001b[0;34m\u001b[0m\u001b[0m\n\u001b[1;32m   1092\u001b[0m         \u001b[0;32mif\u001b[0m \u001b[0mschema\u001b[0m \u001b[0;32mis\u001b[0m \u001b[0;32mNone\u001b[0m \u001b[0;32mor\u001b[0m \u001b[0misinstance\u001b[0m\u001b[0;34m(\u001b[0m\u001b[0mschema\u001b[0m\u001b[0;34m,\u001b[0m \u001b[0;34m(\u001b[0m\u001b[0mlist\u001b[0m\u001b[0;34m,\u001b[0m \u001b[0mtuple\u001b[0m\u001b[0;34m)\u001b[0m\u001b[0;34m)\u001b[0m\u001b[0;34m:\u001b[0m\u001b[0;34m\u001b[0m\u001b[0;34m\u001b[0m\u001b[0m\n\u001b[0;32m-> 1093\u001b[0;31m             \u001b[0mstruct\u001b[0m \u001b[0;34m=\u001b[0m \u001b[0mself\u001b[0m\u001b[0;34m.\u001b[0m\u001b[0m_inferSchemaFromList\u001b[0m\u001b[0;34m(\u001b[0m\u001b[0mdata\u001b[0m\u001b[0;34m,\u001b[0m \u001b[0mnames\u001b[0m\u001b[0;34m=\u001b[0m\u001b[0mschema\u001b[0m\u001b[0;34m)\u001b[0m\u001b[0;34m\u001b[0m\u001b[0;34m\u001b[0m\u001b[0m\n\u001b[0m\u001b[1;32m   1094\u001b[0m             \u001b[0mconverter\u001b[0m \u001b[0;34m=\u001b[0m \u001b[0m_create_converter\u001b[0m\u001b[0;34m(\u001b[0m\u001b[0mstruct\u001b[0m\u001b[0;34m)\u001b[0m\u001b[0;34m\u001b[0m\u001b[0;34m\u001b[0m\u001b[0m\n\u001b[1;32m   1095\u001b[0m             \u001b[0mtupled_data\u001b[0m\u001b[0;34m:\u001b[0m \u001b[0mIterable\u001b[0m\u001b[0;34m[\u001b[0m\u001b[0mTuple\u001b[0m\u001b[0;34m]\u001b[0m \u001b[0;34m=\u001b[0m \u001b[0mmap\u001b[0m\u001b[0;34m(\u001b[0m\u001b[0mconverter\u001b[0m\u001b[0;34m,\u001b[0m \u001b[0mdata\u001b[0m\u001b[0;34m)\u001b[0m\u001b[0;34m\u001b[0m\u001b[0;34m\u001b[0m\u001b[0m\n",
            "\u001b[0;32m/usr/local/lib/python3.11/dist-packages/pyspark/sql/session.py\u001b[0m in \u001b[0;36m_inferSchemaFromList\u001b[0;34m(self, data, names)\u001b[0m\n\u001b[1;32m    967\u001b[0m         )\n\u001b[1;32m    968\u001b[0m         \u001b[0;32mif\u001b[0m \u001b[0m_has_nulltype\u001b[0m\u001b[0;34m(\u001b[0m\u001b[0mschema\u001b[0m\u001b[0;34m)\u001b[0m\u001b[0;34m:\u001b[0m\u001b[0;34m\u001b[0m\u001b[0;34m\u001b[0m\u001b[0m\n\u001b[0;32m--> 969\u001b[0;31m             raise PySparkValueError(\n\u001b[0m\u001b[1;32m    970\u001b[0m                 \u001b[0merror_class\u001b[0m\u001b[0;34m=\u001b[0m\u001b[0;34m\"CANNOT_DETERMINE_TYPE\"\u001b[0m\u001b[0;34m,\u001b[0m\u001b[0;34m\u001b[0m\u001b[0;34m\u001b[0m\u001b[0m\n\u001b[1;32m    971\u001b[0m                 \u001b[0mmessage_parameters\u001b[0m\u001b[0;34m=\u001b[0m\u001b[0;34m{\u001b[0m\u001b[0;34m}\u001b[0m\u001b[0;34m,\u001b[0m\u001b[0;34m\u001b[0m\u001b[0;34m\u001b[0m\u001b[0m\n",
            "\u001b[0;31mPySparkValueError\u001b[0m: [CANNOT_DETERMINE_TYPE] Some of types cannot be determined after inferring."
          ]
        }
      ]
    },
    {
      "cell_type": "code",
      "metadata": {
        "id": "17sJ9jaliV-b",
        "colab": {
          "base_uri": "https://localhost:8080/"
        },
        "outputId": "8ede00be-8b3d-44dc-f42d-a8fd2b2933c3"
      },
      "source": [
        "df"
      ],
      "execution_count": null,
      "outputs": [
        {
          "output_type": "execute_result",
          "data": {
            "text/plain": [
              "DataFrame[firstname: string, middlename: string, lastname: string, dob: string, gender: string, salary: bigint]"
            ]
          },
          "metadata": {},
          "execution_count": 23
        }
      ]
    },
    {
      "cell_type": "code",
      "metadata": {
        "id": "HP1GBfIoxIKw"
      },
      "source": [],
      "execution_count": null,
      "outputs": []
    },
    {
      "cell_type": "markdown",
      "metadata": {
        "id": "bbsONR7IRZnl"
      },
      "source": [
        "# Spark Tips and Tricks\n",
        "\n",
        "This is a collection of code snippets for common or tricky tasks"
      ]
    },
    {
      "cell_type": "markdown",
      "source": [
        "##Pandas DataFrame to Spark DataFrame"
      ],
      "metadata": {
        "id": "kkSXsFae8Cct"
      }
    },
    {
      "cell_type": "code",
      "source": [
        "import pandas as pd\n",
        "import numpy as np\n",
        "\n",
        "df = pd.DataFrame(np.random.randint(100,size=(1000, 3)),columns=['A','B','C'])\n",
        "spark_df = spark.createDataFrame(df)\n",
        "spark_df.show()"
      ],
      "metadata": {
        "colab": {
          "base_uri": "https://localhost:8080/"
        },
        "id": "858-wUBy8BhH",
        "outputId": "aa68a0cd-57cb-4aba-ffa6-9969d8aaff98"
      },
      "execution_count": null,
      "outputs": [
        {
          "output_type": "stream",
          "name": "stdout",
          "text": [
            "+---+---+---+\n",
            "|  A|  B|  C|\n",
            "+---+---+---+\n",
            "| 24| 30| 48|\n",
            "| 36|  9| 68|\n",
            "|  3| 59| 45|\n",
            "| 89| 89| 71|\n",
            "| 25| 38| 15|\n",
            "| 17| 19| 47|\n",
            "| 92| 69|  7|\n",
            "| 19| 30| 26|\n",
            "| 90| 88|  3|\n",
            "| 85| 85| 95|\n",
            "| 70| 86| 97|\n",
            "| 81| 22|  0|\n",
            "| 11| 35| 41|\n",
            "| 29| 48| 64|\n",
            "| 79| 86| 34|\n",
            "| 18| 51| 80|\n",
            "| 39| 65| 25|\n",
            "| 25| 40| 83|\n",
            "| 93| 10| 72|\n",
            "| 13| 94| 89|\n",
            "+---+---+---+\n",
            "only showing top 20 rows\n",
            "\n"
          ]
        }
      ]
    },
    {
      "cell_type": "code",
      "source": [
        "#Convert Object columns in pandas dataframe to a string\n",
        "for i in df.select_dtypes(include='object').columns.tolist():\n",
        "\tdf[i] = df[i].astype(str)\n",
        "\n",
        "#Convert datetimes to UTC\n",
        "  for i in [col for col in df.columns if df[col].dtype == 'datetime64[ns]']:\n",
        "   df[i] = pd.to_datetime(df[i], utc=True)\n",
        "\n",
        "#Replace nan and \"None\" in pandas dataframe to null in the spark dataframe\n",
        "spark_df = spark.createDataFrame(df).replace('None', None).replace(float('nan'), None)"
      ],
      "metadata": {
        "id": "M3C2b3PX-7FN"
      },
      "execution_count": null,
      "outputs": []
    },
    {
      "cell_type": "markdown",
      "metadata": {
        "id": "tGa0hwxCRlEf"
      },
      "source": [
        "##Window Functions"
      ]
    },
    {
      "cell_type": "code",
      "metadata": {
        "colab": {
          "base_uri": "https://localhost:8080/"
        },
        "id": "RIL2p4P3Z6bu",
        "outputId": "32f9beec-176d-4c6a-c088-4495fc14d5ea"
      },
      "source": [
        "data = [\n",
        "        (1,'2021-01-01 10:00:00'),\n",
        "        (1,'2021-01-01 11:00:00'),\n",
        "        (1,'2021-01-01 12:00:00'),\n",
        "        (2,'2021-01-01 12:00:00'),\n",
        "        (2,'2021-01-01 13:00:00'),\n",
        "        (2,'2021-01-01 14:00:00'),\n",
        "]\n",
        "\n",
        "columns = [\"id\",\"datetime\"]\n",
        "df = spark.createDataFrame(data=data, schema = columns)\n",
        "df.createOrReplaceTempView(\"window_test\")\n",
        "df.show()"
      ],
      "execution_count": null,
      "outputs": [
        {
          "output_type": "stream",
          "name": "stdout",
          "text": [
            "+---+-------------------+\n",
            "| id|           datetime|\n",
            "+---+-------------------+\n",
            "|  1|2021-01-01 10:00:00|\n",
            "|  1|2021-01-01 11:00:00|\n",
            "|  1|2021-01-01 12:00:00|\n",
            "|  2|2021-01-01 12:00:00|\n",
            "|  2|2021-01-01 13:00:00|\n",
            "|  2|2021-01-01 14:00:00|\n",
            "+---+-------------------+\n",
            "\n"
          ]
        }
      ]
    },
    {
      "cell_type": "code",
      "metadata": {
        "colab": {
          "base_uri": "https://localhost:8080/"
        },
        "id": "y6ZCcOiCZ74G",
        "outputId": "05f550de-5181-428a-894f-5d1f3c63ac57"
      },
      "source": [
        "#Selecting the min and max by a specific Group\n",
        "spark.sql('''\n",
        "Select\n",
        "  id,\n",
        "\n",
        "  max(datetime) OVER (Partition BY id ORDER BY datetime) as max_date,\n",
        "  min(datetime) OVER (Partition BY id ORDER BY datetime) as min_date,\n",
        "\n",
        "  ROW_NUMBER() OVER (Partition BY id ORDER BY datetime) as row_number\n",
        "\n",
        "  FROM window_test\n",
        "\n",
        "''').show()"
      ],
      "execution_count": null,
      "outputs": [
        {
          "output_type": "stream",
          "name": "stdout",
          "text": [
            "+---+-------------------+-------------------+----------+\n",
            "| id|           max_date|           min_date|row_number|\n",
            "+---+-------------------+-------------------+----------+\n",
            "|  1|2021-01-01 10:00:00|2021-01-01 10:00:00|         1|\n",
            "|  1|2021-01-01 11:00:00|2021-01-01 10:00:00|         2|\n",
            "|  1|2021-01-01 12:00:00|2021-01-01 10:00:00|         3|\n",
            "|  2|2021-01-01 12:00:00|2021-01-01 12:00:00|         1|\n",
            "|  2|2021-01-01 13:00:00|2021-01-01 12:00:00|         2|\n",
            "|  2|2021-01-01 14:00:00|2021-01-01 12:00:00|         3|\n",
            "+---+-------------------+-------------------+----------+\n",
            "\n"
          ]
        }
      ]
    },
    {
      "cell_type": "code",
      "metadata": {
        "id": "ouYaOvMDcYYS",
        "colab": {
          "base_uri": "https://localhost:8080/"
        },
        "outputId": "b3da88ed-c735-4717-8bb9-60ff47e68c93"
      },
      "source": [
        "# Selecting the row number or order rank for each row within a specified grouping.\n",
        "# This is great for sub rankings in a table\n",
        "\n",
        "spark.sql('''\n",
        "Select\n",
        "  id,\n",
        "  datetime,\n",
        "\n",
        "  dense_rank() OVER (Partition BY id ORDER BY datetime) as row_number\n",
        "\n",
        "  FROM window_test\n",
        "\n",
        "''').show()"
      ],
      "execution_count": null,
      "outputs": [
        {
          "output_type": "stream",
          "name": "stdout",
          "text": [
            "+---+-------------------+----------+\n",
            "| id|           datetime|row_number|\n",
            "+---+-------------------+----------+\n",
            "|  1|2021-01-01 10:00:00|         1|\n",
            "|  1|2021-01-01 11:00:00|         2|\n",
            "|  1|2021-01-01 12:00:00|         3|\n",
            "|  2|2021-01-01 12:00:00|         1|\n",
            "|  2|2021-01-01 13:00:00|         2|\n",
            "|  2|2021-01-01 14:00:00|         3|\n",
            "+---+-------------------+----------+\n",
            "\n"
          ]
        }
      ]
    },
    {
      "cell_type": "code",
      "source": [
        "from pyspark.sql.window import Window"
      ],
      "metadata": {
        "id": "re7cYODCMdLb"
      },
      "execution_count": null,
      "outputs": []
    },
    {
      "cell_type": "code",
      "source": [
        "df=df.withColumn(\"row_number\",F.row_number().over(Window.partitionBy(\"id\").orderBy(F.asc(\"datetime\"))))\n",
        "df.show()"
      ],
      "metadata": {
        "colab": {
          "base_uri": "https://localhost:8080/"
        },
        "id": "DVF3EERSMrrz",
        "outputId": "a7a97008-1513-4dac-a243-898d686e314f"
      },
      "execution_count": null,
      "outputs": [
        {
          "output_type": "stream",
          "name": "stdout",
          "text": [
            "+---+-------------------+----------+\n",
            "| id|           datetime|row_number|\n",
            "+---+-------------------+----------+\n",
            "|  1|2021-01-01 10:00:00|         1|\n",
            "|  1|2021-01-01 11:00:00|         2|\n",
            "|  1|2021-01-01 12:00:00|         3|\n",
            "|  2|2021-01-01 12:00:00|         1|\n",
            "|  2|2021-01-01 13:00:00|         2|\n",
            "|  2|2021-01-01 14:00:00|         3|\n",
            "+---+-------------------+----------+\n",
            "\n"
          ]
        }
      ]
    },
    {
      "cell_type": "code",
      "source": [
        "df=df.withColumn(\"dense_rank\",F.dense_rank().over(Window.partitionBy(\"id\").orderBy(\"datetime\")))\n",
        "df.show()"
      ],
      "metadata": {
        "colab": {
          "base_uri": "https://localhost:8080/"
        },
        "id": "ez1bGFtwO8p4",
        "outputId": "b73e2912-e9a3-422e-a03d-e3e40b4c8dc5"
      },
      "execution_count": null,
      "outputs": [
        {
          "output_type": "stream",
          "name": "stdout",
          "text": [
            "+---+-------------------+----------+----------+\n",
            "| id|           datetime|row_number|dense_rank|\n",
            "+---+-------------------+----------+----------+\n",
            "|  1|2021-01-01 10:00:00|         1|         1|\n",
            "|  1|2021-01-01 11:00:00|         2|         2|\n",
            "|  1|2021-01-01 12:00:00|         3|         3|\n",
            "|  2|2021-01-01 12:00:00|         1|         1|\n",
            "|  2|2021-01-01 13:00:00|         2|         2|\n",
            "|  2|2021-01-01 14:00:00|         3|         3|\n",
            "+---+-------------------+----------+----------+\n",
            "\n"
          ]
        }
      ]
    },
    {
      "cell_type": "markdown",
      "source": [
        "## De-duplicate data by returning the most recently updated row using a window function"
      ],
      "metadata": {
        "id": "eJgMqCiJGfZd"
      }
    },
    {
      "cell_type": "code",
      "source": [
        "data = [\n",
        "        (1,'2021-01-01',100,'A'),\n",
        "        (1,'2021-01-31',105,'A'),\n",
        "        (2,'2021-02-04',160,'B'),\n",
        "        (2,'2021-02-07',145,'B'),\n",
        "]\n",
        "\n",
        "columns = [\"id\",\"date\",\"score\",\"type\"]\n",
        "df = spark.createDataFrame(data=data, schema = columns)\n",
        "df.createOrReplaceTempView(\"window_test\")\n",
        "df.show()"
      ],
      "metadata": {
        "colab": {
          "base_uri": "https://localhost:8080/"
        },
        "id": "JBbA3LY3GwEr",
        "outputId": "bee7a999-9453-42c9-8a13-ebc3b354665d"
      },
      "execution_count": null,
      "outputs": [
        {
          "output_type": "stream",
          "name": "stdout",
          "text": [
            "+---+----------+-----+----+\n",
            "| id|      date|score|type|\n",
            "+---+----------+-----+----+\n",
            "|  1|2021-01-01|  100|   A|\n",
            "|  1|2021-01-31|  105|   A|\n",
            "|  2|2021-02-04|  160|   B|\n",
            "|  2|2021-02-07|  145|   B|\n",
            "+---+----------+-----+----+\n",
            "\n"
          ]
        }
      ]
    },
    {
      "cell_type": "code",
      "source": [
        "df2 = spark.sql(\"\"\"\n",
        "WITH T AS (\n",
        "  SELECT\n",
        "  *,\n",
        "  ROW_NUMBER() OVER (PARTITION BY id ORDER BY date DESC) AS version_number\n",
        "  FROM window_test\n",
        ")\n",
        "\n",
        "SELECT * FROM T WHERE version_number = 1;\n",
        "\n",
        "\"\"\")\n",
        "\n",
        "df2.show()"
      ],
      "metadata": {
        "colab": {
          "base_uri": "https://localhost:8080/"
        },
        "id": "HwhLxFkibR0w",
        "outputId": "37eebe29-e48b-4848-acac-4290a9477e02"
      },
      "execution_count": null,
      "outputs": [
        {
          "output_type": "stream",
          "name": "stdout",
          "text": [
            "+---+----------+-----+----+--------------+\n",
            "| id|      date|score|type|version_number|\n",
            "+---+----------+-----+----+--------------+\n",
            "|  1|2021-01-31|  105|   A|             1|\n",
            "|  2|2021-02-07|  145|   B|             1|\n",
            "+---+----------+-----+----+--------------+\n",
            "\n"
          ]
        }
      ]
    },
    {
      "cell_type": "code",
      "source": [
        "spark.sql(\"\"\"\n",
        "  SELECT\n",
        "  *,\n",
        "  SUM(score) OVER (PARTITION by type ORDER BY date) as score_cumulative\n",
        "  FROM window_test\n",
        "\n",
        "\"\"\").show()"
      ],
      "metadata": {
        "colab": {
          "base_uri": "https://localhost:8080/"
        },
        "id": "TByf27YO6rdt",
        "outputId": "26f90838-3897-4e79-c466-45120441792f"
      },
      "execution_count": null,
      "outputs": [
        {
          "output_type": "stream",
          "name": "stdout",
          "text": [
            "+---+----------+-----+----+----------------+\n",
            "| id|      date|score|type|score_cumulative|\n",
            "+---+----------+-----+----+----------------+\n",
            "|  1|2021-01-01|  100|   A|             100|\n",
            "|  1|2021-01-31|  105|   A|             205|\n",
            "|  2|2021-02-04|  160|   B|             160|\n",
            "|  2|2021-02-07|  145|   B|             305|\n",
            "+---+----------+-----+----+----------------+\n",
            "\n"
          ]
        }
      ]
    },
    {
      "cell_type": "markdown",
      "source": [
        "## Limit the number of results per group window function"
      ],
      "metadata": {
        "id": "hDNlXaL0QEPe"
      }
    },
    {
      "cell_type": "code",
      "source": [
        "import pandas as pd\n",
        "import numpy as np\n",
        "\n",
        "df = pd.DataFrame(\n",
        "np.hstack((\n",
        "    np.random.randint(1,5,size=(100000, 1)),\n",
        "    np.random.randint(100,size=(100000, 1))\n",
        "))\n",
        ", columns=['company_id', 'number'])\n",
        "\n",
        "dff = spark.createDataFrame(df)\n",
        "dff.createOrReplaceTempView(\"window_test_limits\")\n"
      ],
      "metadata": {
        "id": "pSyMC_ypQIfB"
      },
      "execution_count": null,
      "outputs": []
    },
    {
      "cell_type": "code",
      "source": [
        "spark.sql(\"\"\"\n",
        "WITH T AS (\n",
        "  SELECT\n",
        "    company_id,\n",
        "    number,\n",
        "    ROW_NUMBER() OVER (PARTITION BY company_id ORDER BY number) AS row_number\n",
        "  FROM window_test_limits\n",
        "    )\n",
        "\n",
        "SELECT * FROM T WHERE row_number <= 100\n",
        "\n",
        "\"\"\").show()"
      ],
      "metadata": {
        "colab": {
          "base_uri": "https://localhost:8080/"
        },
        "id": "LLSEEW6VQNLa",
        "outputId": "c8900973-56e0-4503-f031-144ff5331023"
      },
      "execution_count": null,
      "outputs": [
        {
          "output_type": "stream",
          "name": "stdout",
          "text": [
            "+----------+------+----------+\n",
            "|company_id|number|row_number|\n",
            "+----------+------+----------+\n",
            "|         1|     0|         1|\n",
            "|         1|     0|         2|\n",
            "|         1|     0|         3|\n",
            "|         1|     0|         4|\n",
            "|         1|     0|         5|\n",
            "|         1|     0|         6|\n",
            "|         1|     0|         7|\n",
            "|         1|     0|         8|\n",
            "|         1|     0|         9|\n",
            "|         1|     0|        10|\n",
            "|         1|     0|        11|\n",
            "|         1|     0|        12|\n",
            "|         1|     0|        13|\n",
            "|         1|     0|        14|\n",
            "|         1|     0|        15|\n",
            "|         1|     0|        16|\n",
            "|         1|     0|        17|\n",
            "|         1|     0|        18|\n",
            "|         1|     0|        19|\n",
            "|         1|     0|        20|\n",
            "+----------+------+----------+\n",
            "only showing top 20 rows\n",
            "\n"
          ]
        }
      ]
    },
    {
      "cell_type": "markdown",
      "source": [
        "## Calculate a 7 day moving average"
      ],
      "metadata": {
        "id": "T0Ynq3qAVWs3"
      }
    },
    {
      "cell_type": "code",
      "source": [
        "df = pd.DataFrame(pd.date_range('1/1/2022','1/31/2022',freq='D'), columns=['date'])\n",
        "import random\n",
        "df['company_id'] = 1\n",
        "df['number'] = df.apply(lambda x: random.randint(0,100), axis = 1)\n",
        "\n",
        "dff = spark.createDataFrame(df)\n",
        "dff.createOrReplaceTempView(\"window_data\")\n",
        "\n",
        "dff.show()"
      ],
      "metadata": {
        "colab": {
          "base_uri": "https://localhost:8080/"
        },
        "id": "e1Rkc0bCVaoU",
        "outputId": "3b363050-c3d2-43b0-8378-b5bd7e0cad73"
      },
      "execution_count": null,
      "outputs": [
        {
          "output_type": "stream",
          "name": "stdout",
          "text": [
            "+-------------------+----------+------+\n",
            "|               date|company_id|number|\n",
            "+-------------------+----------+------+\n",
            "|2022-01-01 00:00:00|         1|    34|\n",
            "|2022-01-02 00:00:00|         1|    39|\n",
            "|2022-01-03 00:00:00|         1|    82|\n",
            "|2022-01-04 00:00:00|         1|     2|\n",
            "|2022-01-05 00:00:00|         1|    71|\n",
            "|2022-01-06 00:00:00|         1|    35|\n",
            "|2022-01-07 00:00:00|         1|    50|\n",
            "|2022-01-08 00:00:00|         1|    11|\n",
            "|2022-01-09 00:00:00|         1|    57|\n",
            "|2022-01-10 00:00:00|         1|    19|\n",
            "|2022-01-11 00:00:00|         1|    60|\n",
            "|2022-01-12 00:00:00|         1|    10|\n",
            "|2022-01-13 00:00:00|         1|    45|\n",
            "|2022-01-14 00:00:00|         1|    32|\n",
            "|2022-01-15 00:00:00|         1|     8|\n",
            "|2022-01-16 00:00:00|         1|    92|\n",
            "|2022-01-17 00:00:00|         1|    85|\n",
            "|2022-01-18 00:00:00|         1|     5|\n",
            "|2022-01-19 00:00:00|         1|    36|\n",
            "|2022-01-20 00:00:00|         1|    61|\n",
            "+-------------------+----------+------+\n",
            "only showing top 20 rows\n",
            "\n"
          ]
        }
      ]
    },
    {
      "cell_type": "code",
      "source": [
        "spark.sql(\"\"\"\n",
        "SELECT\n",
        "  date,\n",
        "  company_id,\n",
        "  number,\n",
        "  AVG(number) OVER (PARTITION BY company_id ORDER BY date ASC RANGE BETWEEN INTERVAL 6 DAYS PRECEDING AND CURRENT ROW) as last_7_day_avg\n",
        "FROM window_data\n",
        "\"\"\").show()"
      ],
      "metadata": {
        "colab": {
          "base_uri": "https://localhost:8080/"
        },
        "id": "atZLJhqIXYIH",
        "outputId": "3281a76f-679e-4e12-b071-e6ef88fc2394"
      },
      "execution_count": null,
      "outputs": [
        {
          "output_type": "stream",
          "name": "stdout",
          "text": [
            "+-------------------+----------+------+------------------+\n",
            "|               date|company_id|number|    last_7_day_avg|\n",
            "+-------------------+----------+------+------------------+\n",
            "|2022-01-01 00:00:00|         1|    34|              34.0|\n",
            "|2022-01-02 00:00:00|         1|    39|              36.5|\n",
            "|2022-01-03 00:00:00|         1|    82|51.666666666666664|\n",
            "|2022-01-04 00:00:00|         1|     2|             39.25|\n",
            "|2022-01-05 00:00:00|         1|    71|              45.6|\n",
            "|2022-01-06 00:00:00|         1|    35|43.833333333333336|\n",
            "|2022-01-07 00:00:00|         1|    50|44.714285714285715|\n",
            "|2022-01-08 00:00:00|         1|    11| 41.42857142857143|\n",
            "|2022-01-09 00:00:00|         1|    57|              44.0|\n",
            "|2022-01-10 00:00:00|         1|    19|              35.0|\n",
            "|2022-01-11 00:00:00|         1|    60|43.285714285714285|\n",
            "|2022-01-12 00:00:00|         1|    10| 34.57142857142857|\n",
            "|2022-01-13 00:00:00|         1|    45|              36.0|\n",
            "|2022-01-14 00:00:00|         1|    32| 33.42857142857143|\n",
            "|2022-01-15 00:00:00|         1|     8|              33.0|\n",
            "|2022-01-16 00:00:00|         1|    92|              38.0|\n",
            "|2022-01-17 00:00:00|         1|    85| 47.42857142857143|\n",
            "|2022-01-18 00:00:00|         1|     5| 39.57142857142857|\n",
            "|2022-01-19 00:00:00|         1|    36|43.285714285714285|\n",
            "|2022-01-20 00:00:00|         1|    61| 45.57142857142857|\n",
            "+-------------------+----------+------+------------------+\n",
            "only showing top 20 rows\n",
            "\n"
          ]
        }
      ]
    },
    {
      "cell_type": "markdown",
      "source": [
        "## Monthly Active Users"
      ],
      "metadata": {
        "id": "yjKv-xeZKOdi"
      }
    },
    {
      "cell_type": "code",
      "source": [
        "import pandas as pd\n",
        "df = pd.DataFrame(pd.date_range('1/1/2022','1/31/2022',freq='D'), columns=['login_date'])\n",
        "import random\n",
        "df['company_id'] = 1\n",
        "df['user_id'] = df.apply(lambda x: random.randint(0,3), axis = 1)\n",
        "\n",
        "dff = spark.createDataFrame(df)\n",
        "dff.createOrReplaceTempView(\"users_data\")\n",
        "\n",
        "dff.show()"
      ],
      "metadata": {
        "colab": {
          "base_uri": "https://localhost:8080/"
        },
        "id": "KP7bOaRnKZO7",
        "outputId": "8818b293-6b48-4ce6-caa9-3a5a26ac386f"
      },
      "execution_count": null,
      "outputs": [
        {
          "output_type": "stream",
          "name": "stdout",
          "text": [
            "+-------------------+----------+-------+\n",
            "|         login_date|company_id|user_id|\n",
            "+-------------------+----------+-------+\n",
            "|2022-01-01 00:00:00|         1|      1|\n",
            "|2022-01-02 00:00:00|         1|      3|\n",
            "|2022-01-03 00:00:00|         1|      3|\n",
            "|2022-01-04 00:00:00|         1|      2|\n",
            "|2022-01-05 00:00:00|         1|      2|\n",
            "|2022-01-06 00:00:00|         1|      2|\n",
            "|2022-01-07 00:00:00|         1|      3|\n",
            "|2022-01-08 00:00:00|         1|      2|\n",
            "|2022-01-09 00:00:00|         1|      2|\n",
            "|2022-01-10 00:00:00|         1|      0|\n",
            "|2022-01-11 00:00:00|         1|      3|\n",
            "|2022-01-12 00:00:00|         1|      2|\n",
            "|2022-01-13 00:00:00|         1|      0|\n",
            "|2022-01-14 00:00:00|         1|      0|\n",
            "|2022-01-15 00:00:00|         1|      3|\n",
            "|2022-01-16 00:00:00|         1|      0|\n",
            "|2022-01-17 00:00:00|         1|      0|\n",
            "|2022-01-18 00:00:00|         1|      3|\n",
            "|2022-01-19 00:00:00|         1|      2|\n",
            "|2022-01-20 00:00:00|         1|      1|\n",
            "+-------------------+----------+-------+\n",
            "only showing top 20 rows\n",
            "\n"
          ]
        }
      ]
    },
    {
      "cell_type": "code",
      "source": [
        "#Revisit this transform\n",
        "spark.sql(\"\"\"\n",
        "SELECT\n",
        "  login_date,\n",
        "  COUNT(user_id) OVER (PARTITION BY login_date ORDER BY login_date ASC RANGE BETWEEN INTERVAL 30 DAYS PRECEDING AND CURRENT ROW) AS monthly_active_users\n",
        "  FROM users_data\n",
        "\"\"\").show()"
      ],
      "metadata": {
        "colab": {
          "base_uri": "https://localhost:8080/"
        },
        "id": "rtaaCPuZKfTt",
        "outputId": "15334438-e03b-4cae-821f-21f8bf6f6b45"
      },
      "execution_count": null,
      "outputs": [
        {
          "output_type": "stream",
          "name": "stdout",
          "text": [
            "+-------------------+--------------------+\n",
            "|         login_date|monthly_active_users|\n",
            "+-------------------+--------------------+\n",
            "|2022-01-01 00:00:00|                   1|\n",
            "|2022-01-02 00:00:00|                   1|\n",
            "|2022-01-03 00:00:00|                   1|\n",
            "|2022-01-04 00:00:00|                   1|\n",
            "|2022-01-05 00:00:00|                   1|\n",
            "|2022-01-06 00:00:00|                   1|\n",
            "|2022-01-07 00:00:00|                   1|\n",
            "|2022-01-08 00:00:00|                   1|\n",
            "|2022-01-09 00:00:00|                   1|\n",
            "|2022-01-10 00:00:00|                   1|\n",
            "|2022-01-11 00:00:00|                   1|\n",
            "|2022-01-12 00:00:00|                   1|\n",
            "|2022-01-13 00:00:00|                   1|\n",
            "|2022-01-14 00:00:00|                   1|\n",
            "|2022-01-15 00:00:00|                   1|\n",
            "|2022-01-16 00:00:00|                   1|\n",
            "|2022-01-17 00:00:00|                   1|\n",
            "|2022-01-18 00:00:00|                   1|\n",
            "|2022-01-19 00:00:00|                   1|\n",
            "|2022-01-20 00:00:00|                   1|\n",
            "+-------------------+--------------------+\n",
            "only showing top 20 rows\n",
            "\n"
          ]
        }
      ]
    },
    {
      "cell_type": "markdown",
      "source": [
        "## Find the time difference between related rows using a window function"
      ],
      "metadata": {
        "id": "BCmuBJ9rGwb-"
      }
    },
    {
      "cell_type": "code",
      "metadata": {
        "colab": {
          "base_uri": "https://localhost:8080/"
        },
        "id": "OYfSAEIKRcsQ",
        "outputId": "96b437fd-d3e0-412d-f2d6-75d8453f7199"
      },
      "source": [
        "data = [\n",
        "        (1,'start','2021-01-01',100,'A'),\n",
        "        (1,'end','2021-01-31',200,'A'),\n",
        "        (2,'start','2021-03-05 4:53:11',100,'A'),\n",
        "        (2,'end','2021-05-01 05:06:38',200,'A'),\n",
        "]\n",
        "\n",
        "columns = [\"id\",\"session\",\"datetime\",\"station_return\",\"type\"]\n",
        "df = spark.createDataFrame(data=data, schema = columns)\n",
        "df.createOrReplaceTempView(\"window_test\")\n",
        "df.show()"
      ],
      "execution_count": null,
      "outputs": [
        {
          "output_type": "stream",
          "name": "stdout",
          "text": [
            "+---+-------+-------------------+--------------+----+\n",
            "| id|session|           datetime|station_return|type|\n",
            "+---+-------+-------------------+--------------+----+\n",
            "|  1|  start|         2021-01-01|           100|   A|\n",
            "|  1|    end|         2021-01-31|           200|   A|\n",
            "|  2|  start| 2021-03-05 4:53:11|           100|   A|\n",
            "|  2|    end|2021-05-01 05:06:38|           200|   A|\n",
            "+---+-------+-------------------+--------------+----+\n",
            "\n"
          ]
        }
      ]
    },
    {
      "cell_type": "code",
      "metadata": {
        "id": "yZWxv4Z4WXsE",
        "colab": {
          "base_uri": "https://localhost:8080/"
        },
        "outputId": "36629e28-2ff8-4f4a-863c-e5980a83b555"
      },
      "source": [
        "spark.sql('''\n",
        "SELECT\n",
        "  id,\n",
        "  datetime,\n",
        "  lead(datetime) OVER (PARTITION BY id ORDER BY datetime) as next_datetime,\n",
        "  DATEDIFF(lead(datetime) OVER (PARTITION BY id ORDER BY datetime),datetime) as duration_in_days\n",
        "\n",
        "FROM window_test\n",
        "\n",
        "''').show()"
      ],
      "execution_count": null,
      "outputs": [
        {
          "output_type": "stream",
          "name": "stdout",
          "text": [
            "+---+-------------------+-------------------+----------------+\n",
            "| id|           datetime|      next_datetime|duration_in_days|\n",
            "+---+-------------------+-------------------+----------------+\n",
            "|  1|         2021-01-01|         2021-01-31|              30|\n",
            "|  1|         2021-01-31|               null|            null|\n",
            "|  2| 2021-03-05 4:53:11|2021-05-01 05:06:38|              57|\n",
            "|  2|2021-05-01 05:06:38|               null|            null|\n",
            "+---+-------------------+-------------------+----------------+\n",
            "\n"
          ]
        }
      ]
    },
    {
      "cell_type": "markdown",
      "source": [
        "## Unpivotting"
      ],
      "metadata": {
        "id": "7AYS0MlUvfrI"
      }
    },
    {
      "cell_type": "code",
      "metadata": {
        "id": "fZ--Ii0-bCPt",
        "colab": {
          "base_uri": "https://localhost:8080/"
        },
        "outputId": "2be77493-7ad1-46b1-e0be-c57f9bbd0b29"
      },
      "source": [
        "from pyspark.sql.types import *\n",
        "\n",
        "\n",
        "data = [\n",
        "        ('tim', 10, 9, 8, 5),\n",
        "        ('john', 5, 6, 3, 6),\n",
        "        ('jane', 7, 8, 9, 10),\n",
        "\n",
        "]\n",
        "\n",
        "schema = StructType([\n",
        "   StructField(\"name\", StringType(), True),\n",
        "   StructField(\"experience\", IntegerType(), True),\n",
        "   StructField(\"satisfaction\", IntegerType(), True),\n",
        "   StructField(\"customer_service\", IntegerType(), True),\n",
        "   StructField(\"speed_of_service\", IntegerType(), True)])\n",
        "\n",
        "\n",
        "df = spark.createDataFrame(data, schema=schema)\n",
        "\n",
        "df.show()"
      ],
      "execution_count": null,
      "outputs": [
        {
          "output_type": "stream",
          "name": "stdout",
          "text": [
            "+----+----------+------------+----------------+----------------+\n",
            "|name|experience|satisfaction|customer_service|speed_of_service|\n",
            "+----+----------+------------+----------------+----------------+\n",
            "| tim|        10|           9|               8|               5|\n",
            "|john|         5|           6|               3|               6|\n",
            "|jane|         7|           8|               9|              10|\n",
            "+----+----------+------------+----------------+----------------+\n",
            "\n"
          ]
        }
      ]
    },
    {
      "cell_type": "code",
      "source": [
        "cols = ['experience', 'satisfaction', 'customer_service', 'speed_of_service']\n",
        "\n",
        "exprs = f\"\"\"stack({len(cols)}, {\", \".join([f\"'{i}',{i}\" for i in cols])}) as (question,score)\"\"\"\n",
        "\n",
        "unpivotted_df = df.select(\"name\",F.expr(exprs))\n",
        "\n",
        "unpivotted_df.show()"
      ],
      "metadata": {
        "id": "IjeFoWcF9Fqk",
        "colab": {
          "base_uri": "https://localhost:8080/"
        },
        "outputId": "e906fd9b-b0be-4b67-8022-f1898e70fba8"
      },
      "execution_count": null,
      "outputs": [
        {
          "output_type": "stream",
          "name": "stdout",
          "text": [
            "+----+----------------+-----+\n",
            "|name|        question|score|\n",
            "+----+----------------+-----+\n",
            "| tim|      experience|   10|\n",
            "| tim|    satisfaction|    9|\n",
            "| tim|customer_service|    8|\n",
            "| tim|speed_of_service|    5|\n",
            "|john|      experience|    5|\n",
            "|john|    satisfaction|    6|\n",
            "|john|customer_service|    3|\n",
            "|john|speed_of_service|    6|\n",
            "|jane|      experience|    7|\n",
            "|jane|    satisfaction|    8|\n",
            "|jane|customer_service|    9|\n",
            "|jane|speed_of_service|   10|\n",
            "+----+----------------+-----+\n",
            "\n"
          ]
        }
      ]
    },
    {
      "cell_type": "markdown",
      "source": [
        "## Replace Values using a Dictionary"
      ],
      "metadata": {
        "id": "WNaboQo22HOW"
      }
    },
    {
      "cell_type": "code",
      "source": [
        "df = (spark\n",
        "    .createDataFrame([\n",
        "        (1, 'hello',3),\n",
        "        (2, 'hello',5),\n",
        "        (3, 'hello',5),\n",
        "        (135246, 'hello',4),\n",
        "        (54936, 'hello',4)\n",
        "        ],\n",
        "        [\"id\", \"text\",\"num\"]))"
      ],
      "metadata": {
        "id": "cYU3M9DnL1am"
      },
      "execution_count": null,
      "outputs": []
    },
    {
      "cell_type": "code",
      "source": [
        "mapping = {\n",
        "1: 5555,\n",
        "4:9999\n",
        "}"
      ],
      "metadata": {
        "id": "pFUiVV-V2XHE"
      },
      "execution_count": null,
      "outputs": []
    },
    {
      "cell_type": "code",
      "source": [
        "df.replace(mapping,1,'id').replace(mapping,1,'_3').show()"
      ],
      "metadata": {
        "colab": {
          "base_uri": "https://localhost:8080/"
        },
        "id": "QsZ_Dx6D5Lxy",
        "outputId": "443d4f60-1e28-43ff-dcfc-66092f80b44c"
      },
      "execution_count": null,
      "outputs": [
        {
          "output_type": "stream",
          "name": "stderr",
          "text": [
            "/usr/local/lib/python3.7/dist-packages/pyspark/sql/dataframe.py:2233: UserWarning: to_replace is a dict and value is not None. value will be ignored.\n",
            "  warnings.warn(\"to_replace is a dict and value is not None. value will be ignored.\")\n"
          ]
        },
        {
          "output_type": "stream",
          "name": "stdout",
          "text": [
            "+------+-----+----+\n",
            "|    id| text|  _3|\n",
            "+------+-----+----+\n",
            "|  5555|hello|   3|\n",
            "|     2|hello|   5|\n",
            "|     3|hello|   5|\n",
            "|135246|hello|9999|\n",
            "| 54936|hello|9999|\n",
            "+------+-----+----+\n",
            "\n"
          ]
        }
      ]
    },
    {
      "cell_type": "markdown",
      "source": [
        "##Create a Date Range"
      ],
      "metadata": {
        "id": "2fj4XecA5nX_"
      }
    },
    {
      "cell_type": "code",
      "source": [
        "date_range_df = spark.sql(\"SELECT explode(sequence(to_date('2018-01-01'), to_date('2018-03-01'), interval 1 day)) as date\")\n",
        "date_range_df.show()"
      ],
      "metadata": {
        "colab": {
          "base_uri": "https://localhost:8080/"
        },
        "id": "2R8ks2qR5Uh4",
        "outputId": "9cc2a028-e501-49dd-fbc1-5a53e66c8d6d"
      },
      "execution_count": null,
      "outputs": [
        {
          "output_type": "stream",
          "name": "stdout",
          "text": [
            "+----------+\n",
            "|      date|\n",
            "+----------+\n",
            "|2018-01-01|\n",
            "|2018-01-02|\n",
            "|2018-01-03|\n",
            "|2018-01-04|\n",
            "|2018-01-05|\n",
            "|2018-01-06|\n",
            "|2018-01-07|\n",
            "|2018-01-08|\n",
            "|2018-01-09|\n",
            "|2018-01-10|\n",
            "|2018-01-11|\n",
            "|2018-01-12|\n",
            "|2018-01-13|\n",
            "|2018-01-14|\n",
            "|2018-01-15|\n",
            "|2018-01-16|\n",
            "|2018-01-17|\n",
            "|2018-01-18|\n",
            "|2018-01-19|\n",
            "|2018-01-20|\n",
            "+----------+\n",
            "only showing top 20 rows\n",
            "\n"
          ]
        }
      ]
    },
    {
      "cell_type": "markdown",
      "source": [
        "##Concat Row Values after Grouping"
      ],
      "metadata": {
        "id": "VxqgKv6w5x04"
      }
    },
    {
      "cell_type": "code",
      "source": [
        "df = (spark\n",
        "    .createDataFrame([\n",
        "        (1, 'hello',3),\n",
        "        (2, 'hello',5),\n",
        "        (3, 'hello',5),\n",
        "        (3, 'hello',5),\n",
        "        (3, 'hello',5),\n",
        "        ],\n",
        "        [\"id\", \"text\"]))\n",
        "\n",
        "df.createOrReplaceTempView(\"group_array\")\n",
        "\n",
        "df.show()"
      ],
      "metadata": {
        "colab": {
          "base_uri": "https://localhost:8080/"
        },
        "id": "FlcyEw_j9o-K",
        "outputId": "e98b0691-173e-424d-9a97-c5783cb87593"
      },
      "execution_count": null,
      "outputs": [
        {
          "output_type": "stream",
          "name": "stdout",
          "text": [
            "+---+-----+---+\n",
            "| id| text| _3|\n",
            "+---+-----+---+\n",
            "|  1|hello|  3|\n",
            "|  2|hello|  5|\n",
            "|  3|hello|  5|\n",
            "|  3|hello|  5|\n",
            "|  3|hello|  5|\n",
            "+---+-----+---+\n",
            "\n"
          ]
        }
      ]
    },
    {
      "cell_type": "code",
      "source": [
        "#Return every element\n",
        "spark.sql(\"Select g.text, collect_list(g.id) FROM group_array as g GROUP BY 1\").show()"
      ],
      "metadata": {
        "colab": {
          "base_uri": "https://localhost:8080/"
        },
        "id": "opBXrwRc-KVj",
        "outputId": "1c061a03-a20a-4ba2-f5fe-ec6f718bd706"
      },
      "execution_count": null,
      "outputs": [
        {
          "output_type": "stream",
          "name": "stdout",
          "text": [
            "+-----+----------------+\n",
            "| text|collect_list(id)|\n",
            "+-----+----------------+\n",
            "|hello| [1, 2, 3, 3, 3]|\n",
            "+-----+----------------+\n",
            "\n"
          ]
        }
      ]
    },
    {
      "cell_type": "code",
      "source": [
        "#Return unique list\n",
        "spark.sql(\"Select g.text, collect_set(g.id) FROM group_array as g GROUP BY 1\").show()"
      ],
      "metadata": {
        "colab": {
          "base_uri": "https://localhost:8080/"
        },
        "id": "WurXJUP55r4J",
        "outputId": "ffa96d15-5c30-4c72-9df9-736d294bd85d"
      },
      "execution_count": null,
      "outputs": [
        {
          "output_type": "stream",
          "name": "stdout",
          "text": [
            "+-----+---------------+\n",
            "| text|collect_set(id)|\n",
            "+-----+---------------+\n",
            "|hello|      [1, 2, 3]|\n",
            "+-----+---------------+\n",
            "\n"
          ]
        }
      ]
    },
    {
      "cell_type": "markdown",
      "source": [
        "## Rename Spark Columns with a Dictionary"
      ],
      "metadata": {
        "id": "4PfBVvnxDhAw"
      }
    },
    {
      "cell_type": "code",
      "source": [
        "col_dict = {\n",
        "    'id':'ID',\n",
        "    'test':'hello'\n",
        "}\n",
        "\n",
        "#Select only specific columns from a file\n",
        "df = spark.read.parquet(path).select([k for k in cols_2016])\n",
        "\n",
        "#rename the columns\n",
        "for old_name, new_name in col_dict.items():\n",
        "  df = df.withColumnRenamed(old_name,new_name)\n",
        "\n",
        "df.createOrReplaceTempView(\"test\")\n",
        "\n",
        "test.show()"
      ],
      "metadata": {
        "id": "c5hKJL5Z9hIu"
      },
      "execution_count": null,
      "outputs": []
    },
    {
      "cell_type": "markdown",
      "source": [
        "##Read Multiple Parquet Files into one Spark DataFrame"
      ],
      "metadata": {
        "id": "fUjc4g4xHE7p"
      }
    },
    {
      "cell_type": "code",
      "source": [
        "import glob\n",
        "\n",
        "parquet_files = glob.glob('/content/*.parquet')\n",
        "#The * is a wild card\n",
        "\n",
        "df = spark.read.parquet(*parquet_files)"
      ],
      "metadata": {
        "id": "4UdQCbmCHIGn"
      },
      "execution_count": null,
      "outputs": []
    },
    {
      "cell_type": "markdown",
      "source": [
        "## Split and get last element in Spark SQL"
      ],
      "metadata": {
        "id": "D6Syynf5QCxB"
      }
    },
    {
      "cell_type": "code",
      "source": [
        "spark.sql(\"\"\"\n",
        "SELECT\n",
        "  \"This.is.a.test\" AS text,\n",
        "  SPLIT(\"This.is.a.test\",'[\\.]') AS split,\n",
        "  REVERSE(SPLIT(\"This.is.a.test\",'[\\.]'))[0] AS last_word\n",
        "\"\"\").show()"
      ],
      "metadata": {
        "colab": {
          "base_uri": "https://localhost:8080/",
          "height": 236
        },
        "id": "nLV1bLK_QIuW",
        "outputId": "6559a564-022b-4b8f-9435-c8f03ff1d004"
      },
      "execution_count": null,
      "outputs": [
        {
          "output_type": "error",
          "ename": "NameError",
          "evalue": "ignored",
          "traceback": [
            "\u001b[0;31m---------------------------------------------------------------------------\u001b[0m",
            "\u001b[0;31mNameError\u001b[0m                                 Traceback (most recent call last)",
            "\u001b[0;32m<ipython-input-1-4b8e316f5e87>\u001b[0m in \u001b[0;36m<module>\u001b[0;34m()\u001b[0m\n\u001b[0;32m----> 1\u001b[0;31m spark.sql(\"\"\"\n\u001b[0m\u001b[1;32m      2\u001b[0m \u001b[0mSELECT\u001b[0m\u001b[0;34m\u001b[0m\u001b[0;34m\u001b[0m\u001b[0m\n\u001b[1;32m      3\u001b[0m   \u001b[0;34m\"This.is.a.test\"\u001b[0m\u001b[0;34m,\u001b[0m\u001b[0;34m\u001b[0m\u001b[0;34m\u001b[0m\u001b[0m\n\u001b[1;32m      4\u001b[0m \u001b[0;34m\u001b[0m\u001b[0m\n\u001b[1;32m      5\u001b[0m   \u001b[0mSPLIT\u001b[0m\u001b[0;34m(\u001b[0m\u001b[0;34m\"This.is.a.test\"\u001b[0m\u001b[0;34m,\u001b[0m\u001b[0;34m'[\\.]'\u001b[0m\u001b[0;34m)\u001b[0m \u001b[0;32mas\u001b[0m \u001b[0msplit\u001b[0m\u001b[0;34m,\u001b[0m\u001b[0;34m\u001b[0m\u001b[0;34m\u001b[0m\u001b[0m\n",
            "\u001b[0;31mNameError\u001b[0m: name 'spark' is not defined"
          ]
        }
      ]
    },
    {
      "cell_type": "markdown",
      "source": [
        "##Handling NULL Values"
      ],
      "metadata": {
        "id": "0k8qNqs2T2a0"
      }
    },
    {
      "cell_type": "code",
      "source": [
        "df = (spark\n",
        "    .createDataFrame([\n",
        "        (1, 'hello',None),\n",
        "        (2, 'hello',None),\n",
        "        (3, 'hello',5),\n",
        "        (3, 'hello',5),\n",
        "        (3, 'hello',5),\n",
        "        ],\n",
        "        [\"id\", \"text\"]))\n",
        "\n",
        "df.createOrReplaceTempView(\"group_array\")\n",
        "\n",
        "df.show()"
      ],
      "metadata": {
        "id": "6zIJ3J1UQfpJ",
        "colab": {
          "base_uri": "https://localhost:8080/"
        },
        "outputId": "472fc25d-1b4a-425b-c45b-94088a7c93be"
      },
      "execution_count": null,
      "outputs": [
        {
          "output_type": "stream",
          "name": "stdout",
          "text": [
            "+---+-----+----+\n",
            "| id| text|  _3|\n",
            "+---+-----+----+\n",
            "|  1|hello|null|\n",
            "|  2|hello|null|\n",
            "|  3|hello|   5|\n",
            "|  3|hello|   5|\n",
            "|  3|hello|   5|\n",
            "+---+-----+----+\n",
            "\n"
          ]
        }
      ]
    },
    {
      "cell_type": "code",
      "source": [
        "spark.sql(\"Select * from group_array where _3 IS NOT NULL\").show()"
      ],
      "metadata": {
        "colab": {
          "base_uri": "https://localhost:8080/"
        },
        "id": "DXsG3qgkUfXo",
        "outputId": "deb7c20b-7bf7-4149-891f-c4bf3ea307fa"
      },
      "execution_count": null,
      "outputs": [
        {
          "output_type": "stream",
          "name": "stdout",
          "text": [
            "+---+-----+---+\n",
            "| id| text| _3|\n",
            "+---+-----+---+\n",
            "|  3|hello|  5|\n",
            "|  3|hello|  5|\n",
            "|  3|hello|  5|\n",
            "+---+-----+---+\n",
            "\n"
          ]
        }
      ]
    },
    {
      "cell_type": "markdown",
      "source": [
        "## Using a JDBC Driver"
      ],
      "metadata": {
        "id": "jzlxJnZ6bNcq"
      }
    },
    {
      "cell_type": "code",
      "source": [
        "!pip install JayDeBeApi\n",
        "import jaydebeapi\n",
        "import os\n",
        "\n",
        "#Downlaods JDBC drivers\n",
        "!wget https://repo1.maven.org/maven2/org/apache/hive/hive-jdbc/2.3.7/hive-jdbc-2.3.7-standalone.jar\n",
        "!zip -q -d hive-jdbc-2.3.7-standalone.jar org/apache/logging/log4j/core/lookup/JndiLookup.class\n",
        "!unzip hive-jdbc-2.3.7-standalone.jar > output.txt\n",
        "\n",
        "!wget https://github.com/timveil/hive-jdbc-uber-jar/releases/download/v1.8-2.6.3/hive-jdbc-uber-2.6.3.0-235.jar\n",
        "\n",
        "\n",
        "DRIVER_CLASS = 'org.apache.hive.jdbc.HiveDriver'\n",
        "DRIVER_PATH = 'hive-jdbc-2.3.7-standalone.jar'\n",
        "ASCEND_ENV = 'trial'\n",
        "CONN_URL = 'jdbc:'\n",
        "\n",
        "user = 'admin'\n",
        "pw = 'admin'\n",
        "\n",
        "conn = jdbc.connect(DRIVER_CLASS,\n",
        "                    CONN_URL,\n",
        "                    [user, pw],\n",
        "                    DRIVER_PATH)"
      ],
      "metadata": {
        "id": "UsyjzevaUj4W"
      },
      "execution_count": null,
      "outputs": []
    },
    {
      "cell_type": "markdown",
      "source": [
        "# Regex"
      ],
      "metadata": {
        "id": "zSv6sT7Rd2O5"
      }
    },
    {
      "cell_type": "code",
      "source": [
        "spark.sql(\"\"\"\n",
        "SELECT\n",
        "  '(5) Strongly Agree',\n",
        "  regexp_extract('(10) Strongly Agree', '([0-9]+)')\n",
        "\"\"\").show()"
      ],
      "metadata": {
        "colab": {
          "base_uri": "https://localhost:8080/"
        },
        "id": "Qeln1haMd3By",
        "outputId": "b00f26b4-8ec3-4f30-cce1-67c3d9cdddac"
      },
      "execution_count": null,
      "outputs": [
        {
          "output_type": "stream",
          "name": "stdout",
          "text": [
            "+------------------+------------------------------------------------+\n",
            "|(5) Strongly Agree|regexp_extract((10) Strongly Agree, ([0-9]+), 1)|\n",
            "+------------------+------------------------------------------------+\n",
            "|(5) Strongly Agree|                                              10|\n",
            "+------------------+------------------------------------------------+\n",
            "\n"
          ]
        }
      ]
    },
    {
      "cell_type": "code",
      "source": [],
      "metadata": {
        "id": "zo8SK4fQeMUQ"
      },
      "execution_count": null,
      "outputs": []
    }
  ]
}